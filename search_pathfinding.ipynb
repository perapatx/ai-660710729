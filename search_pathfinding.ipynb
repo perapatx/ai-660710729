{
  "nbformat": 4,
  "nbformat_minor": 0,
  "metadata": {
    "colab": {
      "provenance": []
    },
    "kernelspec": {
      "name": "python3",
      "display_name": "Python 3"
    },
    "language_info": {
      "name": "python"
    }
  },
  "cells": [
    {
      "cell_type": "code",
      "execution_count": 46,
      "metadata": {
        "id": "cRAD5_uJ80wE"
      },
      "outputs": [],
      "source": [
        "# ขั้นตอนที่ 1 ติดตั้งไลบรารีที่จำเป็น"
      ]
    },
    {
      "cell_type": "code",
      "source": [
        "!pip install osmnx==1.9.1 folium -q"
      ],
      "metadata": {
        "id": "pV_zRWDG-K4c"
      },
      "execution_count": 47,
      "outputs": []
    },
    {
      "cell_type": "code",
      "source": [
        "# ขั้นตอนที่ 2 Import และตั้งค่าพื้นฐาน"
      ],
      "metadata": {
        "id": "pBsktU5L-RkM"
      },
      "execution_count": 48,
      "outputs": []
    },
    {
      "cell_type": "code",
      "source": [
        "import osmnx as ox\n",
        "import networkx as nx\n",
        "import folium\n",
        "import pandas as pd\n",
        "import matplotlib.pyplot as plt\n",
        "from IPython.display import display"
      ],
      "metadata": {
        "id": "Lhs0t6rT9eO5"
      },
      "execution_count": 49,
      "outputs": []
    },
    {
      "cell_type": "code",
      "source": [
        "ox.settings.use_cache = True\n",
        "ox.settings.log_console = False"
      ],
      "metadata": {
        "id": "w_Z-QxoB85FH"
      },
      "execution_count": 50,
      "outputs": []
    },
    {
      "cell_type": "code",
      "source": [
        "print(f\"OSMnx version: {ox.__version__}\")\n",
        "print(f\"NetworkX version: {nx.__version__}\")"
      ],
      "metadata": {
        "id": "Pg_yAhiB9ax1",
        "colab": {
          "base_uri": "https://localhost:8080/"
        },
        "outputId": "26a831c5-88e4-4b4d-a82e-3089273dde0f"
      },
      "execution_count": 51,
      "outputs": [
        {
          "output_type": "stream",
          "name": "stdout",
          "text": [
            "OSMnx version: 1.9.1\n",
            "NetworkX version: 3.5\n"
          ]
        }
      ]
    },
    {
      "cell_type": "code",
      "source": [
        "# ขั้นตอนที่ 3 ดึงข้อมูลแผนที่กรุงเทพฯ"
      ],
      "metadata": {
        "id": "guO8Oy2Q-Wp0"
      },
      "execution_count": 52,
      "outputs": []
    },
    {
      "cell_type": "code",
      "source": [
        "place_name = \"Thailand\""
      ],
      "metadata": {
        "id": "j4LGzIPC9iar"
      },
      "execution_count": 92,
      "outputs": []
    },
    {
      "cell_type": "code",
      "source": [
        "try:\n",
        "    # ดึงข้อมูลเครือข่ายถนนสำหรับการขับรถ\n",
        "    G = ox.graph_from_place(place_name, network_type='drive')\n",
        "\n",
        "    print(f\"- Nodes (intersections): {G.number_of_nodes():,}\")\n",
        "    print(f\"- Edges (street segments): {G.number_of_edges():,}\")\n",
        "\n",
        "    fig, ax = ox.plot_graph(G, node_size=5, edge_linewidth=0.5, show=False, close=False)\n",
        "    plt.title(f\"Street Network of {place_name}\")\n",
        "    plt.show()\n",
        "\n",
        "except Exception as e:\n",
        "    print(f\"Error downloading map data: {e}\")"
      ],
      "metadata": {
        "id": "CQePzZr49wRo",
        "colab": {
          "base_uri": "https://localhost:8080/"
        },
        "outputId": "75b592b9-4a77-45df-9c45-731cafa69398"
      },
      "execution_count": null,
      "outputs": [
        {
          "metadata": {
            "tags": null
          },
          "name": "stderr",
          "output_type": "stream",
          "text": [
            "/usr/local/lib/python3.11/dist-packages/osmnx/_overpass.py:211: UserWarning: This area is 434 times your configured Overpass max query area size. It will automatically be divided up into multiple sub-queries accordingly. This may take a long time.\n",
            "  multi_poly_proj = utils_geo._consolidate_subdivide_geometry(poly_proj)\n"
          ]
        }
      ]
    },
    {
      "cell_type": "code",
      "source": [
        "# ขั้นตอนที่ 4 สำรวจข้อมูลเบื้องต้น"
      ],
      "metadata": {
        "id": "4R2CMSbb-E_n"
      },
      "execution_count": 54,
      "outputs": []
    },
    {
      "cell_type": "code",
      "source": [
        "edges = ox.graph_to_gdfs(G, nodes=False)\n",
        "\n",
        "print(\"🔍 Sample street data (first 5 streets):\")\n",
        "print(edges[['highway', 'length', 'name']].head())\n",
        "\n",
        "print(\"\\n📊 Types of roads in our graph:\")\n",
        "highway_counts = edges['highway'].value_counts()\n",
        "print(highway_counts.head(10))"
      ],
      "metadata": {
        "id": "aKzKIMUY-a79",
        "colab": {
          "base_uri": "https://localhost:8080/"
        },
        "outputId": "6b6d584b-686a-4865-f4b9-9404613c34f4"
      },
      "execution_count": 55,
      "outputs": [
        {
          "output_type": "stream",
          "name": "stdout",
          "text": [
            "🔍 Sample street data (first 5 streets):\n",
            "                              highway   length             name\n",
            "u         v          key                                       \n",
            "105835765 105845337  0        primary   15.216  ถนนรัตนาธิเบศร์\n",
            "          1711172922 0        primary  179.466      ถนนติวานนท์\n",
            "105845318 8968563189 0        primary   39.027      ถนนติวานนท์\n",
            "          2662860066 0    residential  224.455    ซอยติวานนท์ 9\n",
            "105845325 929364563  0        primary   32.189      ถนนติวานนท์\n",
            "\n",
            "📊 Types of roads in our graph:\n",
            "highway\n",
            "residential       124593\n",
            "tertiary            7510\n",
            "unclassified        3938\n",
            "secondary           2489\n",
            "primary              630\n",
            "secondary_link       415\n",
            "primary_link         303\n",
            "trunk                252\n",
            "trunk_link           194\n",
            "motorway_link         80\n",
            "Name: count, dtype: int64\n"
          ]
        }
      ]
    },
    {
      "cell_type": "code",
      "source": [
        "plt.figure(figsize=(10, 6))\n",
        "highway_counts.head(10).plot(kind='bar')\n",
        "plt.title(\"Distribution of Road Types in Chatuchak\")\n",
        "plt.xlabel(\"Road Type\")\n",
        "plt.ylabel(\"Count\")\n",
        "plt.xticks(rotation=45)\n",
        "plt.tight_layout()\n",
        "plt.show()"
      ],
      "metadata": {
        "id": "Y4lesAhcHNy9",
        "colab": {
          "base_uri": "https://localhost:8080/",
          "height": 607
        },
        "outputId": "62186004-e290-4ab8-90fe-2edfb7375796"
      },
      "execution_count": 56,
      "outputs": [
        {
          "output_type": "display_data",
          "data": {
            "text/plain": [
              "<Figure size 1000x600 with 1 Axes>"
            ],
            "image/png": "[encoded data removed]"
          },
          "metadata": {}
        }
      ]
    },
    {
      "cell_type": "code",
      "source": [
        "# ขั้นตอนที่ 5 กำหนดจุดเริ่มต้นและปลายทาง"
      ],
      "metadata": {
        "id": "aaT8Y8kTJM1U"
      },
      "execution_count": 57,
      "outputs": []
    },
    {
      "cell_type": "code",
      "source": [
        "#start_lat, start_lon = 13.8021, 100.5538\n",
        "#start_name = \"MRT Chatuchak Park\""
      ],
      "metadata": {
        "id": "zJoGD-zzJWOW"
      },
      "execution_count": 58,
      "outputs": []
    },
    {
      "cell_type": "code",
      "source": [
        "\n",
        "start_lat, start_lon = 13.876163, 100.382802\n",
        "start_name = \"PERAPAT HOUSE\""
      ],
      "metadata": {
        "id": "KgOyiQZQqEP6"
      },
      "execution_count": 59,
      "outputs": []
    },
    {
      "cell_type": "code",
      "source": [
        "#end_lat, end_lon = 13.7992, 100.5489\n",
        "#end_name = \"Or Tor Kor Market\""
      ],
      "metadata": {
        "id": "b3OIAh1mJeW3"
      },
      "execution_count": 60,
      "outputs": []
    },
    {
      "cell_type": "code",
      "source": [
        "13.820036, 100.040070\n",
        "end_lat, end_lon = 13.820036, 100.040070\n",
        "end_name = \"Silpakorn\""
      ],
      "metadata": {
        "id": "b7qePAslqRUR"
      },
      "execution_count": 81,
      "outputs": []
    },
    {
      "cell_type": "code",
      "source": [
        "#  หาโหนดที่ใกล้ที่สุดบนกราฟ\n",
        "orig_node = ox.nearest_nodes(G, start_lon, start_lat)\n",
        "dest_node = ox.nearest_nodes(G, end_lon, end_lat)\n",
        "\n",
        "print(f\"🚶 Starting point: {start_name}\")\n",
        "print(f\"   Node ID: {orig_node}\")\n",
        "print(f\"🎯 Destination: {end_name}\")\n",
        "print(f\"   Node ID: {dest_node}\")"
      ],
      "metadata": {
        "id": "pp0C0AdWJfik",
        "colab": {
          "base_uri": "https://localhost:8080/"
        },
        "outputId": "5d168d39-3ec3-4ff5-d5a5-f4bc45fd78ac"
      },
      "execution_count": 82,
      "outputs": [
        {
          "output_type": "stream",
          "name": "stdout",
          "text": [
            "🚶 Starting point: PERAPAT HOUSE\n",
            "   Node ID: 5889760484\n",
            "🎯 Destination: Silpakorn\n",
            "   Node ID: 5904949598\n"
          ]
        }
      ]
    },
    {
      "cell_type": "code",
      "source": [
        "if nx.has_path(G, orig_node, dest_node):\n",
        "    print(\"Path exists between origin and destination!\")\n",
        "else:\n",
        "    print(\"No path found! Try different locations.\")"
      ],
      "metadata": {
        "id": "xxEHcr3NJj55",
        "colab": {
          "base_uri": "https://localhost:8080/"
        },
        "outputId": "eb028301-aaa4-4461-c8d0-858ea493fec9"
      },
      "execution_count": 83,
      "outputs": [
        {
          "output_type": "stream",
          "name": "stdout",
          "text": [
            "Path exists between origin and destination!\n"
          ]
        }
      ]
    },
    {
      "cell_type": "code",
      "source": [
        "# ขั้นตอนที่ 6 หาเส้นทางที่สั้นที่สุดด้วย A*"
      ],
      "metadata": {
        "id": "Bf2JhHgzJ2Uy"
      },
      "execution_count": 64,
      "outputs": []
    },
    {
      "cell_type": "code",
      "source": [
        "try:\n",
        "    # ใช้ A* algorithm หาเส้นทางที่สั้นที่สุด (ตามระยะทาง)\n",
        "    shortest_route = nx.astar_path(G, orig_node, dest_node, weight='length')\n",
        "\n",
        "    # คำนวณระยะทางรวม\n",
        "    route_length = nx.path_weight(G, shortest_route, weight='length')\n",
        "\n",
        "    print(f\"✅ Shortest route found!\")\n",
        "    print(f\"📏 Total distance: {route_length:,.0f} meters ({route_length/1000:.2f} km)\")\n",
        "    print(f\"🔢 Number of intersections: {len(shortest_route)}\")\n",
        "\n",
        "except nx.NetworkXNoPath:\n",
        "    print(\"❌ No path found between these locations!\")\n",
        "except Exception as e:\n",
        "    print(f\"❌ Error: {e}\")"
      ],
      "metadata": {
        "id": "Xni9sMz5KBWr",
        "colab": {
          "base_uri": "https://localhost:8080/"
        },
        "outputId": "e9cbc934-0c2f-4e53-94c2-38845419393d"
      },
      "execution_count": 84,
      "outputs": [
        {
          "output_type": "stream",
          "name": "stdout",
          "text": [
            "✅ Shortest route found!\n",
            "📏 Total distance: 18,012 meters (18.01 km)\n",
            "🔢 Number of intersections: 96\n"
          ]
        }
      ]
    },
    {
      "cell_type": "code",
      "source": [
        "# ขั้นตอนที่ 7 แสดงผลเส้นทางบนแผนที่ Interactive"
      ],
      "metadata": {
        "id": "Ymm1eZwzKNdj"
      },
      "execution_count": 66,
      "outputs": []
    },
    {
      "cell_type": "code",
      "source": [
        "route_map = ox.plot_route_folium(G, shortest_route,\n",
        "                                  route_color='red',\n",
        "                                  route_width=5,\n",
        "                                  route_opacity=0.8)"
      ],
      "metadata": {
        "id": "sOCTJOw4cKx1",
        "colab": {
          "base_uri": "https://localhost:8080/"
        },
        "outputId": "c317f97a-860c-4c46-e689-d4308f916563"
      },
      "execution_count": 77,
      "outputs": [
        {
          "output_type": "stream",
          "name": "stderr",
          "text": [
            "/tmp/ipython-input-77-562654551.py:1: FutureWarning: The `folium` module has been deprecated and will be removed in the v2.0.0 release. You can generate and explore interactive web maps of graph nodes, edges, and/or routes automatically using GeoPandas.GeoDataFrame.explore instead, for example like: `ox.graph_to_gdfs(G, nodes=False).explore()`. See the OSMnx examples gallery for complete details and demonstrations.\n",
            "  route_map = ox.plot_route_folium(G, shortest_route,\n"
          ]
        }
      ]
    },
    {
      "cell_type": "code",
      "source": [
        "start_marker = folium.Marker(\n",
        "    location=[start_lat, start_lon],\n",
        "    popup=f\"<b>Start:</b> {start_name}\",\n",
        "    icon=folium.Icon(color='green', icon='play')\n",
        ")\n",
        "start_marker.add_to(route_map)\n",
        "\n",
        "end_marker = folium.Marker(\n",
        "    location=[end_lat, end_lon],\n",
        "    popup=f\"<b>End:</b> {end_name}\",\n",
        "    icon=folium.Icon(color='red', icon='stop')\n",
        ")\n",
        "end_marker.add_to(route_map)"
      ],
      "metadata": {
        "id": "dS26FJRxK4Fx",
        "colab": {
          "base_uri": "https://localhost:8080/"
        },
        "outputId": "426de0fa-b65f-4ce8-acdb-7511b896e454"
      },
      "execution_count": 78,
      "outputs": [
        {
          "output_type": "execute_result",
          "data": {
            "text/plain": [
              "<folium.map.Marker at 0x7c3d9b4b8990>"
            ]
          },
          "metadata": {},
          "execution_count": 78
        }
      ]
    },
    {
      "cell_type": "code",
      "source": [
        "print(\"🗺️ Interactive map (zoom in/out to explore):\")\n",
        "display(route_map)"
      ],
      "metadata": {
        "id": "EqrRXvELLG_q",
        "colab": {
          "base_uri": "https://localhost:8080/",
          "height": 915
        },
        "outputId": "3aa04a42-25b3-40a6-9ae1-85c46bbc2b6b"
      },
      "execution_count": 79,
      "outputs": [
        {
          "output_type": "stream",
          "name": "stdout",
          "text": [
            "🗺️ Interactive map (zoom in/out to explore):\n"
          ]
        },
        {
          "output_type": "display_data",
          "data": {
            "text/plain": [
              "<folium.folium.Map at 0x7c3d695af850>"
            ],
            "text/html": [
              "<div style=\"width:100%;\"><div style=\"position:relative;width:100%;height:0;padding-bottom:60%;\"><span style=\"color:#565656\">Make this Notebook Trusted to load map: File -> Trust Notebook</span><iframe srcdoc=\"&lt;!DOCTYPE html&gt;\n",
              "&lt;html&gt;\n",
              "&lt;head&gt;\n",
              "    \n",
              "    &lt;meta http-equiv=&quot;content-type&quot; content=&quot;text/html; charset=UTF-8&quot; /&gt;\n",
              "    &lt;script src=&quot;https://cdn.jsdelivr.net/npm/leaflet@1.9.3/dist/leaflet.js&quot;&gt;&lt;/script&gt;\n",
              "    &lt;script src=&quot;https://code.jquery.com/jquery-3.7.1.min.js&quot;&gt;&lt;/script&gt;\n",
              "    &lt;script src=&quot;https://cdn.jsdelivr.net/npm/bootstrap@5.2.2/dist/js/bootstrap.bundle.min.js&quot;&gt;&lt;/script&gt;\n",
              "    &lt;script src=&quot;https://cdnjs.cloudflare.com/ajax/libs/Leaflet.awesome-markers/2.0.2/leaflet.awesome-markers.js&quot;&gt;&lt;/script&gt;\n",
              "    &lt;link rel=&quot;stylesheet&quot; href=&quot;https://cdn.jsdelivr.net/npm/leaflet@1.9.3/dist/leaflet.css&quot;/&gt;\n",
              "    &lt;link rel=&quot;stylesheet&quot; href=&quot;https://cdn.jsdelivr.net/npm/bootstrap@5.2.2/dist/css/bootstrap.min.css&quot;/&gt;\n",
              "    &lt;link rel=&quot;stylesheet&quot; href=&quot;https://netdna.bootstrapcdn.com/bootstrap/3.0.0/css/bootstrap-glyphicons.css&quot;/&gt;\n",
              "    &lt;link rel=&quot;stylesheet&quot; href=&quot;https://cdn.jsdelivr.net/npm/@fortawesome/fontawesome-free@6.2.0/css/all.min.css&quot;/&gt;\n",
              "    &lt;link rel=&quot;stylesheet&quot; href=&quot;https://cdnjs.cloudflare.com/ajax/libs/Leaflet.awesome-markers/2.0.2/leaflet.awesome-markers.css&quot;/&gt;\n",
              "    &lt;link rel=&quot;stylesheet&quot; href=&quot;https://cdn.jsdelivr.net/gh/python-visualization/folium/folium/templates/leaflet.awesome.rotate.min.css&quot;/&gt;\n",
              "    \n",
              "            &lt;meta name=&quot;viewport&quot; content=&quot;width=device-width,\n",
              "                initial-scale=1.0, maximum-scale=1.0, user-scalable=no&quot; /&gt;\n",
              "            &lt;style&gt;\n",
              "                #map_1953ac5fcda04e60ff8dfa31f3c3398a {\n",
              "                    position: relative;\n",
              "                    width: 100.0%;\n",
              "                    height: 100.0%;\n",
              "                    left: 0.0%;\n",
              "                    top: 0.0%;\n",
              "                }\n",
              "                .leaflet-container { font-size: 1rem; }\n",
              "            &lt;/style&gt;\n",
              "\n",
              "            &lt;style&gt;html, body {\n",
              "                width: 100%;\n",
              "                height: 100%;\n",
              "                margin: 0;\n",
              "                padding: 0;\n",
              "            }\n",
              "            &lt;/style&gt;\n",
              "\n",
              "            &lt;style&gt;#map {\n",
              "                position:absolute;\n",
              "                top:0;\n",
              "                bottom:0;\n",
              "                right:0;\n",
              "                left:0;\n",
              "                }\n",
              "            &lt;/style&gt;\n",
              "\n",
              "            &lt;script&gt;\n",
              "                L_NO_TOUCH = false;\n",
              "                L_DISABLE_3D = false;\n",
              "            &lt;/script&gt;\n",
              "\n",
              "        \n",
              "&lt;/head&gt;\n",
              "&lt;body&gt;\n",
              "    \n",
              "    \n",
              "            &lt;div class=&quot;folium-map&quot; id=&quot;map_1953ac5fcda04e60ff8dfa31f3c3398a&quot; &gt;&lt;/div&gt;\n",
              "        \n",
              "&lt;/body&gt;\n",
              "&lt;script&gt;\n",
              "    \n",
              "    \n",
              "            var map_1953ac5fcda04e60ff8dfa31f3c3398a = L.map(\n",
              "                &quot;map_1953ac5fcda04e60ff8dfa31f3c3398a&quot;,\n",
              "                {\n",
              "                    center: [13.893690480472005, 100.32272761058306],\n",
              "                    crs: L.CRS.EPSG3857,\n",
              "                    ...{\n",
              "  &quot;zoom&quot;: 1,\n",
              "  &quot;zoomControl&quot;: true,\n",
              "  &quot;preferCanvas&quot;: false,\n",
              "}\n",
              "\n",
              "                }\n",
              "            );\n",
              "\n",
              "            \n",
              "\n",
              "        \n",
              "    \n",
              "            var tile_layer_eb8b5dc84a172341c0d4ada0d85b0dca = L.tileLayer(\n",
              "                &quot;https://{s}.basemaps.cartocdn.com/light_all/{z}/{x}/{y}{r}.png&quot;,\n",
              "                {\n",
              "  &quot;minZoom&quot;: 0,\n",
              "  &quot;maxZoom&quot;: 20,\n",
              "  &quot;maxNativeZoom&quot;: 20,\n",
              "  &quot;noWrap&quot;: false,\n",
              "  &quot;attribution&quot;: &quot;\\u0026copy; \\u003ca href=\\&quot;https://www.openstreetmap.org/copyright\\&quot;\\u003eOpenStreetMap\\u003c/a\\u003e contributors \\u0026copy; \\u003ca href=\\&quot;https://carto.com/attributions\\&quot;\\u003eCARTO\\u003c/a\\u003e&quot;,\n",
              "  &quot;subdomains&quot;: &quot;abcd&quot;,\n",
              "  &quot;detectRetina&quot;: false,\n",
              "  &quot;tms&quot;: false,\n",
              "  &quot;opacity&quot;: 1,\n",
              "}\n",
              "\n",
              "            );\n",
              "        \n",
              "    \n",
              "            tile_layer_eb8b5dc84a172341c0d4ada0d85b0dca.addTo(map_1953ac5fcda04e60ff8dfa31f3c3398a);\n",
              "        \n",
              "    \n",
              "            var poly_line_d0703f781b30ab30bc93fef04812dd0c = L.polyline(\n",
              "                [[13.8762307, 100.382815], [13.8766291, 100.3827533], [13.8767462, 100.3827265], [13.8768621, 100.3827104], [13.8770704, 100.3826995], [13.877297, 100.3826876], [13.8775808, 100.3826661], [13.877629, 100.3826675], [13.8776602, 100.3826769], [13.8776967, 100.382693], [13.8777201, 100.3827359], [13.877754, 100.3829102], [13.8777839, 100.3831311]],\n",
              "                {&quot;bubblingMouseEvents&quot;: true, &quot;color&quot;: &quot;#3388ff&quot;, &quot;dashArray&quot;: null, &quot;dashOffset&quot;: null, &quot;fill&quot;: false, &quot;fillColor&quot;: &quot;#3388ff&quot;, &quot;fillOpacity&quot;: 0.2, &quot;fillRule&quot;: &quot;evenodd&quot;, &quot;lineCap&quot;: &quot;round&quot;, &quot;lineJoin&quot;: &quot;round&quot;, &quot;noClip&quot;: false, &quot;opacity&quot;: 1.0, &quot;smoothFactor&quot;: 1.0, &quot;stroke&quot;: true, &quot;weight&quot;: 3}\n",
              "            ).addTo(map_1953ac5fcda04e60ff8dfa31f3c3398a);\n",
              "        \n",
              "    \n",
              "            var poly_line_3d42361a5403d8844e54d5369f3bd0a3 = L.polyline(\n",
              "                [[13.8777839, 100.3831311], [13.8780349, 100.3830598], [13.8782383, 100.3830269], [13.8784279, 100.3830279], [13.8787083, 100.383038], [13.8792094, 100.38302], [13.8792642, 100.3830041], [13.87931, 100.3829733], [13.8793489, 100.3829236], [13.8793814, 100.3828405], [13.8794201, 100.3827026], [13.8794289, 100.3825212], [13.8794153, 100.3823523], [13.8792624, 100.3815346]],\n",
              "                {&quot;bubblingMouseEvents&quot;: true, &quot;color&quot;: &quot;#3388ff&quot;, &quot;dashArray&quot;: null, &quot;dashOffset&quot;: null, &quot;fill&quot;: false, &quot;fillColor&quot;: &quot;#3388ff&quot;, &quot;fillOpacity&quot;: 0.2, &quot;fillRule&quot;: &quot;evenodd&quot;, &quot;lineCap&quot;: &quot;round&quot;, &quot;lineJoin&quot;: &quot;round&quot;, &quot;noClip&quot;: false, &quot;opacity&quot;: 1.0, &quot;smoothFactor&quot;: 1.0, &quot;stroke&quot;: true, &quot;weight&quot;: 3}\n",
              "            ).addTo(map_1953ac5fcda04e60ff8dfa31f3c3398a);\n",
              "        \n",
              "    \n",
              "            var poly_line_9ec98c240c9a16793203b3e94fd6439c = L.polyline(\n",
              "                [[13.8792624, 100.3815346], [13.8790553, 100.3805491], [13.8789612, 100.380116]],\n",
              "                {&quot;bubblingMouseEvents&quot;: true, &quot;color&quot;: &quot;#3388ff&quot;, &quot;dashArray&quot;: null, &quot;dashOffset&quot;: null, &quot;fill&quot;: false, &quot;fillColor&quot;: &quot;#3388ff&quot;, &quot;fillOpacity&quot;: 0.2, &quot;fillRule&quot;: &quot;evenodd&quot;, &quot;lineCap&quot;: &quot;round&quot;, &quot;lineJoin&quot;: &quot;round&quot;, &quot;noClip&quot;: false, &quot;opacity&quot;: 1.0, &quot;smoothFactor&quot;: 1.0, &quot;stroke&quot;: true, &quot;weight&quot;: 3}\n",
              "            ).addTo(map_1953ac5fcda04e60ff8dfa31f3c3398a);\n",
              "        \n",
              "    \n",
              "            var poly_line_2fdaa0b5414a66f3574b33ff2c023bcd = L.polyline(\n",
              "                [[13.8789612, 100.380116], [13.878956, 100.3800711], [13.8789558, 100.3800255]],\n",
              "                {&quot;bubblingMouseEvents&quot;: true, &quot;color&quot;: &quot;#3388ff&quot;, &quot;dashArray&quot;: null, &quot;dashOffset&quot;: null, &quot;fill&quot;: false, &quot;fillColor&quot;: &quot;#3388ff&quot;, &quot;fillOpacity&quot;: 0.2, &quot;fillRule&quot;: &quot;evenodd&quot;, &quot;lineCap&quot;: &quot;round&quot;, &quot;lineJoin&quot;: &quot;round&quot;, &quot;noClip&quot;: false, &quot;opacity&quot;: 1.0, &quot;smoothFactor&quot;: 1.0, &quot;stroke&quot;: true, &quot;weight&quot;: 3}\n",
              "            ).addTo(map_1953ac5fcda04e60ff8dfa31f3c3398a);\n",
              "        \n",
              "    \n",
              "            var poly_line_bc3dba009365a8e48df7c37845641c33 = L.polyline(\n",
              "                [[13.8789558, 100.3800255], [13.8789495, 100.3797064], [13.8789506, 100.3792731], [13.8789501, 100.3792027], [13.8789673, 100.3788983], [13.8789857, 100.3788678], [13.879018, 100.3788552], [13.8793934, 100.3788533], [13.8794348, 100.3788413], [13.8794652, 100.3788102], [13.8795299, 100.3786385], [13.8795598, 100.3785945], [13.8796086, 100.3785665], [13.8801718, 100.3784696], [13.8809118, 100.3783586], [13.8809489, 100.3783424], [13.8809701, 100.3783105], [13.8809893, 100.3781687], [13.881003, 100.3781359], [13.8810361, 100.3781112], [13.8812003, 100.3780915], [13.8812308, 100.3780776], [13.8812446, 100.3780451], [13.8812926, 100.3771421], [13.8812892, 100.3771279], [13.8812454, 100.376898], [13.8811484, 100.3762363], [13.8811446, 100.3762103], [13.8811256, 100.37607], [13.8810954, 100.3758494], [13.8810062, 100.3752508]],\n",
              "                {&quot;bubblingMouseEvents&quot;: true, &quot;color&quot;: &quot;#3388ff&quot;, &quot;dashArray&quot;: null, &quot;dashOffset&quot;: null, &quot;fill&quot;: false, &quot;fillColor&quot;: &quot;#3388ff&quot;, &quot;fillOpacity&quot;: 0.2, &quot;fillRule&quot;: &quot;evenodd&quot;, &quot;lineCap&quot;: &quot;round&quot;, &quot;lineJoin&quot;: &quot;round&quot;, &quot;noClip&quot;: false, &quot;opacity&quot;: 1.0, &quot;smoothFactor&quot;: 1.0, &quot;stroke&quot;: true, &quot;weight&quot;: 3}\n",
              "            ).addTo(map_1953ac5fcda04e60ff8dfa31f3c3398a);\n",
              "        \n",
              "    \n",
              "            var poly_line_1c1317f2cfc7339edfb26a219b40bdc9 = L.polyline(\n",
              "                [[13.8810062, 100.3752508], [13.8805078, 100.3752589]],\n",
              "                {&quot;bubblingMouseEvents&quot;: true, &quot;color&quot;: &quot;#3388ff&quot;, &quot;dashArray&quot;: null, &quot;dashOffset&quot;: null, &quot;fill&quot;: false, &quot;fillColor&quot;: &quot;#3388ff&quot;, &quot;fillOpacity&quot;: 0.2, &quot;fillRule&quot;: &quot;evenodd&quot;, &quot;lineCap&quot;: &quot;round&quot;, &quot;lineJoin&quot;: &quot;round&quot;, &quot;noClip&quot;: false, &quot;opacity&quot;: 1.0, &quot;smoothFactor&quot;: 1.0, &quot;stroke&quot;: true, &quot;weight&quot;: 3}\n",
              "            ).addTo(map_1953ac5fcda04e60ff8dfa31f3c3398a);\n",
              "        \n",
              "    \n",
              "            var poly_line_5c4b275b401605396624f74642da10fe = L.polyline(\n",
              "                [[13.8805078, 100.3752589], [13.8805117, 100.3752038], [13.8805327, 100.3749102], [13.8805553, 100.3745173], [13.8805817, 100.3740588], [13.8806277, 100.3731842], [13.8806526, 100.3728647], [13.8806866, 100.372429], [13.880703, 100.3722476], [13.8807904, 100.3710458], [13.8808053, 100.3709059], [13.8808512, 100.370559]],\n",
              "                {&quot;bubblingMouseEvents&quot;: true, &quot;color&quot;: &quot;#3388ff&quot;, &quot;dashArray&quot;: null, &quot;dashOffset&quot;: null, &quot;fill&quot;: false, &quot;fillColor&quot;: &quot;#3388ff&quot;, &quot;fillOpacity&quot;: 0.2, &quot;fillRule&quot;: &quot;evenodd&quot;, &quot;lineCap&quot;: &quot;round&quot;, &quot;lineJoin&quot;: &quot;round&quot;, &quot;noClip&quot;: false, &quot;opacity&quot;: 1.0, &quot;smoothFactor&quot;: 1.0, &quot;stroke&quot;: true, &quot;weight&quot;: 3}\n",
              "            ).addTo(map_1953ac5fcda04e60ff8dfa31f3c3398a);\n",
              "        \n",
              "    \n",
              "            var poly_line_4f21555980604b1582c4d32caa409534 = L.polyline(\n",
              "                [[13.8808512, 100.370559], [13.8808802, 100.3703399], [13.8808905, 100.3702605], [13.8809638, 100.3697782]],\n",
              "                {&quot;bubblingMouseEvents&quot;: true, &quot;color&quot;: &quot;#3388ff&quot;, &quot;dashArray&quot;: null, &quot;dashOffset&quot;: null, &quot;fill&quot;: false, &quot;fillColor&quot;: &quot;#3388ff&quot;, &quot;fillOpacity&quot;: 0.2, &quot;fillRule&quot;: &quot;evenodd&quot;, &quot;lineCap&quot;: &quot;round&quot;, &quot;lineJoin&quot;: &quot;round&quot;, &quot;noClip&quot;: false, &quot;opacity&quot;: 1.0, &quot;smoothFactor&quot;: 1.0, &quot;stroke&quot;: true, &quot;weight&quot;: 3}\n",
              "            ).addTo(map_1953ac5fcda04e60ff8dfa31f3c3398a);\n",
              "        \n",
              "    \n",
              "            var poly_line_350b7eb1b52e56f0a9be909e99370912 = L.polyline(\n",
              "                [[13.8809638, 100.3697782], [13.8807193, 100.369638], [13.8806001, 100.3695709], [13.8805378, 100.3695339], [13.8804285, 100.3694783]],\n",
              "                {&quot;bubblingMouseEvents&quot;: true, &quot;color&quot;: &quot;#3388ff&quot;, &quot;dashArray&quot;: null, &quot;dashOffset&quot;: null, &quot;fill&quot;: false, &quot;fillColor&quot;: &quot;#3388ff&quot;, &quot;fillOpacity&quot;: 0.2, &quot;fillRule&quot;: &quot;evenodd&quot;, &quot;lineCap&quot;: &quot;round&quot;, &quot;lineJoin&quot;: &quot;round&quot;, &quot;noClip&quot;: false, &quot;opacity&quot;: 1.0, &quot;smoothFactor&quot;: 1.0, &quot;stroke&quot;: true, &quot;weight&quot;: 3}\n",
              "            ).addTo(map_1953ac5fcda04e60ff8dfa31f3c3398a);\n",
              "        \n",
              "    \n",
              "            var poly_line_66937ee7801219f63c4324004f708ea6 = L.polyline(\n",
              "                [[13.8804285, 100.3694783], [13.8801403, 100.3693318]],\n",
              "                {&quot;bubblingMouseEvents&quot;: true, &quot;color&quot;: &quot;#3388ff&quot;, &quot;dashArray&quot;: null, &quot;dashOffset&quot;: null, &quot;fill&quot;: false, &quot;fillColor&quot;: &quot;#3388ff&quot;, &quot;fillOpacity&quot;: 0.2, &quot;fillRule&quot;: &quot;evenodd&quot;, &quot;lineCap&quot;: &quot;round&quot;, &quot;lineJoin&quot;: &quot;round&quot;, &quot;noClip&quot;: false, &quot;opacity&quot;: 1.0, &quot;smoothFactor&quot;: 1.0, &quot;stroke&quot;: true, &quot;weight&quot;: 3}\n",
              "            ).addTo(map_1953ac5fcda04e60ff8dfa31f3c3398a);\n",
              "        \n",
              "    \n",
              "            var poly_line_90a516182ed6dc370f90c7019c92760e = L.polyline(\n",
              "                [[13.8801403, 100.3693318], [13.8801043, 100.3693135]],\n",
              "                {&quot;bubblingMouseEvents&quot;: true, &quot;color&quot;: &quot;#3388ff&quot;, &quot;dashArray&quot;: null, &quot;dashOffset&quot;: null, &quot;fill&quot;: false, &quot;fillColor&quot;: &quot;#3388ff&quot;, &quot;fillOpacity&quot;: 0.2, &quot;fillRule&quot;: &quot;evenodd&quot;, &quot;lineCap&quot;: &quot;round&quot;, &quot;lineJoin&quot;: &quot;round&quot;, &quot;noClip&quot;: false, &quot;opacity&quot;: 1.0, &quot;smoothFactor&quot;: 1.0, &quot;stroke&quot;: true, &quot;weight&quot;: 3}\n",
              "            ).addTo(map_1953ac5fcda04e60ff8dfa31f3c3398a);\n",
              "        \n",
              "    \n",
              "            var poly_line_a089e8832e1649f68f205313e74db85a = L.polyline(\n",
              "                [[13.8801043, 100.3693135], [13.8800897, 100.3693061]],\n",
              "                {&quot;bubblingMouseEvents&quot;: true, &quot;color&quot;: &quot;#3388ff&quot;, &quot;dashArray&quot;: null, &quot;dashOffset&quot;: null, &quot;fill&quot;: false, &quot;fillColor&quot;: &quot;#3388ff&quot;, &quot;fillOpacity&quot;: 0.2, &quot;fillRule&quot;: &quot;evenodd&quot;, &quot;lineCap&quot;: &quot;round&quot;, &quot;lineJoin&quot;: &quot;round&quot;, &quot;noClip&quot;: false, &quot;opacity&quot;: 1.0, &quot;smoothFactor&quot;: 1.0, &quot;stroke&quot;: true, &quot;weight&quot;: 3}\n",
              "            ).addTo(map_1953ac5fcda04e60ff8dfa31f3c3398a);\n",
              "        \n",
              "    \n",
              "            var poly_line_97ea32c180c0dbae6d1eb36a160d15bc = L.polyline(\n",
              "                [[13.8800897, 100.3693061], [13.8800366, 100.3692791], [13.8800212, 100.3692713]],\n",
              "                {&quot;bubblingMouseEvents&quot;: true, &quot;color&quot;: &quot;#3388ff&quot;, &quot;dashArray&quot;: null, &quot;dashOffset&quot;: null, &quot;fill&quot;: false, &quot;fillColor&quot;: &quot;#3388ff&quot;, &quot;fillOpacity&quot;: 0.2, &quot;fillRule&quot;: &quot;evenodd&quot;, &quot;lineCap&quot;: &quot;round&quot;, &quot;lineJoin&quot;: &quot;round&quot;, &quot;noClip&quot;: false, &quot;opacity&quot;: 1.0, &quot;smoothFactor&quot;: 1.0, &quot;stroke&quot;: true, &quot;weight&quot;: 3}\n",
              "            ).addTo(map_1953ac5fcda04e60ff8dfa31f3c3398a);\n",
              "        \n",
              "    \n",
              "            var poly_line_39cc7c1f269c77e84aba78ca018dcde2 = L.polyline(\n",
              "                [[13.8800212, 100.3692713], [13.8798574, 100.3691824], [13.8793221, 100.3688918]],\n",
              "                {&quot;bubblingMouseEvents&quot;: true, &quot;color&quot;: &quot;#3388ff&quot;, &quot;dashArray&quot;: null, &quot;dashOffset&quot;: null, &quot;fill&quot;: false, &quot;fillColor&quot;: &quot;#3388ff&quot;, &quot;fillOpacity&quot;: 0.2, &quot;fillRule&quot;: &quot;evenodd&quot;, &quot;lineCap&quot;: &quot;round&quot;, &quot;lineJoin&quot;: &quot;round&quot;, &quot;noClip&quot;: false, &quot;opacity&quot;: 1.0, &quot;smoothFactor&quot;: 1.0, &quot;stroke&quot;: true, &quot;weight&quot;: 3}\n",
              "            ).addTo(map_1953ac5fcda04e60ff8dfa31f3c3398a);\n",
              "        \n",
              "    \n",
              "            var poly_line_71cbdad86a52205aff5cd37571a5f61f = L.polyline(\n",
              "                [[13.8793221, 100.3688918], [13.879341, 100.3688528], [13.8793871, 100.3687354], [13.8794025, 100.3686393], [13.8794166, 100.368551], [13.8794504, 100.368441], [13.8794936, 100.3683786], [13.879561, 100.3683213], [13.8796544, 100.3682617], [13.8797407, 100.3682144], [13.8798116, 100.3681754], [13.8798889, 100.3680787], [13.8799144, 100.3680094]],\n",
              "                {&quot;bubblingMouseEvents&quot;: true, &quot;color&quot;: &quot;#3388ff&quot;, &quot;dashArray&quot;: null, &quot;dashOffset&quot;: null, &quot;fill&quot;: false, &quot;fillColor&quot;: &quot;#3388ff&quot;, &quot;fillOpacity&quot;: 0.2, &quot;fillRule&quot;: &quot;evenodd&quot;, &quot;lineCap&quot;: &quot;round&quot;, &quot;lineJoin&quot;: &quot;round&quot;, &quot;noClip&quot;: false, &quot;opacity&quot;: 1.0, &quot;smoothFactor&quot;: 1.0, &quot;stroke&quot;: true, &quot;weight&quot;: 3}\n",
              "            ).addTo(map_1953ac5fcda04e60ff8dfa31f3c3398a);\n",
              "        \n",
              "    \n",
              "            var poly_line_a8b1f61c6aedd58182d14e22e3987144 = L.polyline(\n",
              "                [[13.8799144, 100.3680094], [13.879935, 100.3679636], [13.8799474, 100.3678937], [13.8799656, 100.3677994], [13.8799656, 100.3675517], [13.8799812, 100.3672469]],\n",
              "                {&quot;bubblingMouseEvents&quot;: true, &quot;color&quot;: &quot;#3388ff&quot;, &quot;dashArray&quot;: null, &quot;dashOffset&quot;: null, &quot;fill&quot;: false, &quot;fillColor&quot;: &quot;#3388ff&quot;, &quot;fillOpacity&quot;: 0.2, &quot;fillRule&quot;: &quot;evenodd&quot;, &quot;lineCap&quot;: &quot;round&quot;, &quot;lineJoin&quot;: &quot;round&quot;, &quot;noClip&quot;: false, &quot;opacity&quot;: 1.0, &quot;smoothFactor&quot;: 1.0, &quot;stroke&quot;: true, &quot;weight&quot;: 3}\n",
              "            ).addTo(map_1953ac5fcda04e60ff8dfa31f3c3398a);\n",
              "        \n",
              "    \n",
              "            var poly_line_0db25046d002dbbd16aa6c4843a4c6f0 = L.polyline(\n",
              "                [[13.8799812, 100.3672469], [13.8799793, 100.367082], [13.8799921, 100.3666122], [13.88, 100.3663201], [13.8800137, 100.3662139], [13.8800618, 100.3660652], [13.8801027, 100.3659895]],\n",
              "                {&quot;bubblingMouseEvents&quot;: true, &quot;color&quot;: &quot;#3388ff&quot;, &quot;dashArray&quot;: null, &quot;dashOffset&quot;: null, &quot;fill&quot;: false, &quot;fillColor&quot;: &quot;#3388ff&quot;, &quot;fillOpacity&quot;: 0.2, &quot;fillRule&quot;: &quot;evenodd&quot;, &quot;lineCap&quot;: &quot;round&quot;, &quot;lineJoin&quot;: &quot;round&quot;, &quot;noClip&quot;: false, &quot;opacity&quot;: 1.0, &quot;smoothFactor&quot;: 1.0, &quot;stroke&quot;: true, &quot;weight&quot;: 3}\n",
              "            ).addTo(map_1953ac5fcda04e60ff8dfa31f3c3398a);\n",
              "        \n",
              "    \n",
              "            var poly_line_531fc8d0cd3fbff93c75271b7ee72d6f = L.polyline(\n",
              "                [[13.8801027, 100.3659895], [13.8801961, 100.3658163]],\n",
              "                {&quot;bubblingMouseEvents&quot;: true, &quot;color&quot;: &quot;#3388ff&quot;, &quot;dashArray&quot;: null, &quot;dashOffset&quot;: null, &quot;fill&quot;: false, &quot;fillColor&quot;: &quot;#3388ff&quot;, &quot;fillOpacity&quot;: 0.2, &quot;fillRule&quot;: &quot;evenodd&quot;, &quot;lineCap&quot;: &quot;round&quot;, &quot;lineJoin&quot;: &quot;round&quot;, &quot;noClip&quot;: false, &quot;opacity&quot;: 1.0, &quot;smoothFactor&quot;: 1.0, &quot;stroke&quot;: true, &quot;weight&quot;: 3}\n",
              "            ).addTo(map_1953ac5fcda04e60ff8dfa31f3c3398a);\n",
              "        \n",
              "    \n",
              "            var poly_line_3a222efd94b18fccc920c57b92bb341a = L.polyline(\n",
              "                [[13.8801961, 100.3658163], [13.8804826, 100.3651472]],\n",
              "                {&quot;bubblingMouseEvents&quot;: true, &quot;color&quot;: &quot;#3388ff&quot;, &quot;dashArray&quot;: null, &quot;dashOffset&quot;: null, &quot;fill&quot;: false, &quot;fillColor&quot;: &quot;#3388ff&quot;, &quot;fillOpacity&quot;: 0.2, &quot;fillRule&quot;: &quot;evenodd&quot;, &quot;lineCap&quot;: &quot;round&quot;, &quot;lineJoin&quot;: &quot;round&quot;, &quot;noClip&quot;: false, &quot;opacity&quot;: 1.0, &quot;smoothFactor&quot;: 1.0, &quot;stroke&quot;: true, &quot;weight&quot;: 3}\n",
              "            ).addTo(map_1953ac5fcda04e60ff8dfa31f3c3398a);\n",
              "        \n",
              "    \n",
              "            var poly_line_76c467e32e0e4ef7b15bf4902d6677a7 = L.polyline(\n",
              "                [[13.8804826, 100.3651472], [13.8805888, 100.3651236], [13.8807743, 100.3651244], [13.8811619, 100.3651506], [13.8817496, 100.365211], [13.8818169, 100.3651941], [13.881863, 100.3651574], [13.8819241, 100.3649398], [13.8819501, 100.3647862]],\n",
              "                {&quot;bubblingMouseEvents&quot;: true, &quot;color&quot;: &quot;#3388ff&quot;, &quot;dashArray&quot;: null, &quot;dashOffset&quot;: null, &quot;fill&quot;: false, &quot;fillColor&quot;: &quot;#3388ff&quot;, &quot;fillOpacity&quot;: 0.2, &quot;fillRule&quot;: &quot;evenodd&quot;, &quot;lineCap&quot;: &quot;round&quot;, &quot;lineJoin&quot;: &quot;round&quot;, &quot;noClip&quot;: false, &quot;opacity&quot;: 1.0, &quot;smoothFactor&quot;: 1.0, &quot;stroke&quot;: true, &quot;weight&quot;: 3}\n",
              "            ).addTo(map_1953ac5fcda04e60ff8dfa31f3c3398a);\n",
              "        \n",
              "    \n",
              "            var poly_line_b0359e8dcb3b925619b2d82f6fa5aac1 = L.polyline(\n",
              "                [[13.8819501, 100.3647862], [13.8820007, 100.3644302]],\n",
              "                {&quot;bubblingMouseEvents&quot;: true, &quot;color&quot;: &quot;#3388ff&quot;, &quot;dashArray&quot;: null, &quot;dashOffset&quot;: null, &quot;fill&quot;: false, &quot;fillColor&quot;: &quot;#3388ff&quot;, &quot;fillOpacity&quot;: 0.2, &quot;fillRule&quot;: &quot;evenodd&quot;, &quot;lineCap&quot;: &quot;round&quot;, &quot;lineJoin&quot;: &quot;round&quot;, &quot;noClip&quot;: false, &quot;opacity&quot;: 1.0, &quot;smoothFactor&quot;: 1.0, &quot;stroke&quot;: true, &quot;weight&quot;: 3}\n",
              "            ).addTo(map_1953ac5fcda04e60ff8dfa31f3c3398a);\n",
              "        \n",
              "    \n",
              "            var poly_line_b3d150847904652b8d934c9146eb1c89 = L.polyline(\n",
              "                [[13.8820007, 100.3644302], [13.8820118, 100.3643499]],\n",
              "                {&quot;bubblingMouseEvents&quot;: true, &quot;color&quot;: &quot;#3388ff&quot;, &quot;dashArray&quot;: null, &quot;dashOffset&quot;: null, &quot;fill&quot;: false, &quot;fillColor&quot;: &quot;#3388ff&quot;, &quot;fillOpacity&quot;: 0.2, &quot;fillRule&quot;: &quot;evenodd&quot;, &quot;lineCap&quot;: &quot;round&quot;, &quot;lineJoin&quot;: &quot;round&quot;, &quot;noClip&quot;: false, &quot;opacity&quot;: 1.0, &quot;smoothFactor&quot;: 1.0, &quot;stroke&quot;: true, &quot;weight&quot;: 3}\n",
              "            ).addTo(map_1953ac5fcda04e60ff8dfa31f3c3398a);\n",
              "        \n",
              "    \n",
              "            var poly_line_c6cf19c51f7261b804f8f500345ba80a = L.polyline(\n",
              "                [[13.8820118, 100.3643499], [13.8820409, 100.364055], [13.882034, 100.363878], [13.8820302, 100.3636511]],\n",
              "                {&quot;bubblingMouseEvents&quot;: true, &quot;color&quot;: &quot;#3388ff&quot;, &quot;dashArray&quot;: null, &quot;dashOffset&quot;: null, &quot;fill&quot;: false, &quot;fillColor&quot;: &quot;#3388ff&quot;, &quot;fillOpacity&quot;: 0.2, &quot;fillRule&quot;: &quot;evenodd&quot;, &quot;lineCap&quot;: &quot;round&quot;, &quot;lineJoin&quot;: &quot;round&quot;, &quot;noClip&quot;: false, &quot;opacity&quot;: 1.0, &quot;smoothFactor&quot;: 1.0, &quot;stroke&quot;: true, &quot;weight&quot;: 3}\n",
              "            ).addTo(map_1953ac5fcda04e60ff8dfa31f3c3398a);\n",
              "        \n",
              "    \n",
              "            var poly_line_c8b43e4553da68dc280e158b4201f0fa = L.polyline(\n",
              "                [[13.8820302, 100.3636511], [13.8820276, 100.3636132]],\n",
              "                {&quot;bubblingMouseEvents&quot;: true, &quot;color&quot;: &quot;#3388ff&quot;, &quot;dashArray&quot;: null, &quot;dashOffset&quot;: null, &quot;fill&quot;: false, &quot;fillColor&quot;: &quot;#3388ff&quot;, &quot;fillOpacity&quot;: 0.2, &quot;fillRule&quot;: &quot;evenodd&quot;, &quot;lineCap&quot;: &quot;round&quot;, &quot;lineJoin&quot;: &quot;round&quot;, &quot;noClip&quot;: false, &quot;opacity&quot;: 1.0, &quot;smoothFactor&quot;: 1.0, &quot;stroke&quot;: true, &quot;weight&quot;: 3}\n",
              "            ).addTo(map_1953ac5fcda04e60ff8dfa31f3c3398a);\n",
              "        \n",
              "    \n",
              "            var poly_line_4dbf5a246caa09c421461fd073005a50 = L.polyline(\n",
              "                [[13.8820276, 100.3636132], [13.8820084, 100.3633614]],\n",
              "                {&quot;bubblingMouseEvents&quot;: true, &quot;color&quot;: &quot;#3388ff&quot;, &quot;dashArray&quot;: null, &quot;dashOffset&quot;: null, &quot;fill&quot;: false, &quot;fillColor&quot;: &quot;#3388ff&quot;, &quot;fillOpacity&quot;: 0.2, &quot;fillRule&quot;: &quot;evenodd&quot;, &quot;lineCap&quot;: &quot;round&quot;, &quot;lineJoin&quot;: &quot;round&quot;, &quot;noClip&quot;: false, &quot;opacity&quot;: 1.0, &quot;smoothFactor&quot;: 1.0, &quot;stroke&quot;: true, &quot;weight&quot;: 3}\n",
              "            ).addTo(map_1953ac5fcda04e60ff8dfa31f3c3398a);\n",
              "        \n",
              "    \n",
              "            var poly_line_664fb65a4aebddaf340e7180f0b6c48e = L.polyline(\n",
              "                [[13.8820084, 100.3633614], [13.8819997, 100.363248], [13.881956, 100.3629578], [13.8819092, 100.3626826]],\n",
              "                {&quot;bubblingMouseEvents&quot;: true, &quot;color&quot;: &quot;#3388ff&quot;, &quot;dashArray&quot;: null, &quot;dashOffset&quot;: null, &quot;fill&quot;: false, &quot;fillColor&quot;: &quot;#3388ff&quot;, &quot;fillOpacity&quot;: 0.2, &quot;fillRule&quot;: &quot;evenodd&quot;, &quot;lineCap&quot;: &quot;round&quot;, &quot;lineJoin&quot;: &quot;round&quot;, &quot;noClip&quot;: false, &quot;opacity&quot;: 1.0, &quot;smoothFactor&quot;: 1.0, &quot;stroke&quot;: true, &quot;weight&quot;: 3}\n",
              "            ).addTo(map_1953ac5fcda04e60ff8dfa31f3c3398a);\n",
              "        \n",
              "    \n",
              "            var poly_line_0dfd3f885984fb421d7175542c0380fe = L.polyline(\n",
              "                [[13.8819092, 100.3626826], [13.8822205, 100.3626091], [13.8826182, 100.3625378], [13.882911, 100.3625038], [13.883709, 100.3623905]],\n",
              "                {&quot;bubblingMouseEvents&quot;: true, &quot;color&quot;: &quot;#3388ff&quot;, &quot;dashArray&quot;: null, &quot;dashOffset&quot;: null, &quot;fill&quot;: false, &quot;fillColor&quot;: &quot;#3388ff&quot;, &quot;fillOpacity&quot;: 0.2, &quot;fillRule&quot;: &quot;evenodd&quot;, &quot;lineCap&quot;: &quot;round&quot;, &quot;lineJoin&quot;: &quot;round&quot;, &quot;noClip&quot;: false, &quot;opacity&quot;: 1.0, &quot;smoothFactor&quot;: 1.0, &quot;stroke&quot;: true, &quot;weight&quot;: 3}\n",
              "            ).addTo(map_1953ac5fcda04e60ff8dfa31f3c3398a);\n",
              "        \n",
              "    \n",
              "            var poly_line_18a64367f5e08d0597581e6e702c2b47 = L.polyline(\n",
              "                [[13.883709, 100.3623905], [13.884002, 100.3623489], [13.8846387, 100.3622066], [13.8852878, 100.3621438], [13.8854135, 100.3621346], [13.8857023, 100.3621593], [13.8865277, 100.3620694]],\n",
              "                {&quot;bubblingMouseEvents&quot;: true, &quot;color&quot;: &quot;#3388ff&quot;, &quot;dashArray&quot;: null, &quot;dashOffset&quot;: null, &quot;fill&quot;: false, &quot;fillColor&quot;: &quot;#3388ff&quot;, &quot;fillOpacity&quot;: 0.2, &quot;fillRule&quot;: &quot;evenodd&quot;, &quot;lineCap&quot;: &quot;round&quot;, &quot;lineJoin&quot;: &quot;round&quot;, &quot;noClip&quot;: false, &quot;opacity&quot;: 1.0, &quot;smoothFactor&quot;: 1.0, &quot;stroke&quot;: true, &quot;weight&quot;: 3}\n",
              "            ).addTo(map_1953ac5fcda04e60ff8dfa31f3c3398a);\n",
              "        \n",
              "    \n",
              "            var poly_line_7f6a4fd4320ca31a56fc44213ca6db4b = L.polyline(\n",
              "                [[13.8865277, 100.3620694], [13.8865145, 100.3619448], [13.8865053, 100.3618098], [13.8865001, 100.3617543]],\n",
              "                {&quot;bubblingMouseEvents&quot;: true, &quot;color&quot;: &quot;#3388ff&quot;, &quot;dashArray&quot;: null, &quot;dashOffset&quot;: null, &quot;fill&quot;: false, &quot;fillColor&quot;: &quot;#3388ff&quot;, &quot;fillOpacity&quot;: 0.2, &quot;fillRule&quot;: &quot;evenodd&quot;, &quot;lineCap&quot;: &quot;round&quot;, &quot;lineJoin&quot;: &quot;round&quot;, &quot;noClip&quot;: false, &quot;opacity&quot;: 1.0, &quot;smoothFactor&quot;: 1.0, &quot;stroke&quot;: true, &quot;weight&quot;: 3}\n",
              "            ).addTo(map_1953ac5fcda04e60ff8dfa31f3c3398a);\n",
              "        \n",
              "    \n",
              "            var poly_line_dc99f04d68bba9fe3b5361317847e706 = L.polyline(\n",
              "                [[13.8865001, 100.3617543], [13.8865342, 100.3617483], [13.8869378, 100.3617087], [13.8877241, 100.3615853], [13.8883282, 100.3615008], [13.8885014, 100.3614659]],\n",
              "                {&quot;bubblingMouseEvents&quot;: true, &quot;color&quot;: &quot;#3388ff&quot;, &quot;dashArray&quot;: null, &quot;dashOffset&quot;: null, &quot;fill&quot;: false, &quot;fillColor&quot;: &quot;#3388ff&quot;, &quot;fillOpacity&quot;: 0.2, &quot;fillRule&quot;: &quot;evenodd&quot;, &quot;lineCap&quot;: &quot;round&quot;, &quot;lineJoin&quot;: &quot;round&quot;, &quot;noClip&quot;: false, &quot;opacity&quot;: 1.0, &quot;smoothFactor&quot;: 1.0, &quot;stroke&quot;: true, &quot;weight&quot;: 3}\n",
              "            ).addTo(map_1953ac5fcda04e60ff8dfa31f3c3398a);\n",
              "        \n",
              "    \n",
              "            var poly_line_8e5792983ccdedb11ef300eadfb864f7 = L.polyline(\n",
              "                [[13.8885014, 100.3614659], [13.8885131, 100.3613814], [13.8885209, 100.361191], [13.8885548, 100.3609094], [13.8886094, 100.360668], [13.8886719, 100.3604561], [13.8887891, 100.3600538], [13.888818, 100.3599554]],\n",
              "                {&quot;bubblingMouseEvents&quot;: true, &quot;color&quot;: &quot;#3388ff&quot;, &quot;dashArray&quot;: null, &quot;dashOffset&quot;: null, &quot;fill&quot;: false, &quot;fillColor&quot;: &quot;#3388ff&quot;, &quot;fillOpacity&quot;: 0.2, &quot;fillRule&quot;: &quot;evenodd&quot;, &quot;lineCap&quot;: &quot;round&quot;, &quot;lineJoin&quot;: &quot;round&quot;, &quot;noClip&quot;: false, &quot;opacity&quot;: 1.0, &quot;smoothFactor&quot;: 1.0, &quot;stroke&quot;: true, &quot;weight&quot;: 3}\n",
              "            ).addTo(map_1953ac5fcda04e60ff8dfa31f3c3398a);\n",
              "        \n",
              "    \n",
              "            var poly_line_b882262ee3b8908dd02146a9b4ca5502 = L.polyline(\n",
              "                [[13.888818, 100.3599554], [13.8888924, 100.3597408], [13.8889401, 100.3596031], [13.8891042, 100.3590533], [13.8891433, 100.3589206]],\n",
              "                {&quot;bubblingMouseEvents&quot;: true, &quot;color&quot;: &quot;#3388ff&quot;, &quot;dashArray&quot;: null, &quot;dashOffset&quot;: null, &quot;fill&quot;: false, &quot;fillColor&quot;: &quot;#3388ff&quot;, &quot;fillOpacity&quot;: 0.2, &quot;fillRule&quot;: &quot;evenodd&quot;, &quot;lineCap&quot;: &quot;round&quot;, &quot;lineJoin&quot;: &quot;round&quot;, &quot;noClip&quot;: false, &quot;opacity&quot;: 1.0, &quot;smoothFactor&quot;: 1.0, &quot;stroke&quot;: true, &quot;weight&quot;: 3}\n",
              "            ).addTo(map_1953ac5fcda04e60ff8dfa31f3c3398a);\n",
              "        \n",
              "    \n",
              "            var poly_line_190e5410a89f120b88aa49f4a85fdbaf = L.polyline(\n",
              "                [[13.8891433, 100.3589206], [13.8892109, 100.3586912], [13.8893046, 100.3583238]],\n",
              "                {&quot;bubblingMouseEvents&quot;: true, &quot;color&quot;: &quot;#3388ff&quot;, &quot;dashArray&quot;: null, &quot;dashOffset&quot;: null, &quot;fill&quot;: false, &quot;fillColor&quot;: &quot;#3388ff&quot;, &quot;fillOpacity&quot;: 0.2, &quot;fillRule&quot;: &quot;evenodd&quot;, &quot;lineCap&quot;: &quot;round&quot;, &quot;lineJoin&quot;: &quot;round&quot;, &quot;noClip&quot;: false, &quot;opacity&quot;: 1.0, &quot;smoothFactor&quot;: 1.0, &quot;stroke&quot;: true, &quot;weight&quot;: 3}\n",
              "            ).addTo(map_1953ac5fcda04e60ff8dfa31f3c3398a);\n",
              "        \n",
              "    \n",
              "            var poly_line_c4b59cd4886e86a13449aebb6fad2b5e = L.polyline(\n",
              "                [[13.8893046, 100.3583238], [13.8894609, 100.3577927], [13.8896379, 100.357224], [13.8897863, 100.3566715], [13.8898393, 100.3565107]],\n",
              "                {&quot;bubblingMouseEvents&quot;: true, &quot;color&quot;: &quot;#3388ff&quot;, &quot;dashArray&quot;: null, &quot;dashOffset&quot;: null, &quot;fill&quot;: false, &quot;fillColor&quot;: &quot;#3388ff&quot;, &quot;fillOpacity&quot;: 0.2, &quot;fillRule&quot;: &quot;evenodd&quot;, &quot;lineCap&quot;: &quot;round&quot;, &quot;lineJoin&quot;: &quot;round&quot;, &quot;noClip&quot;: false, &quot;opacity&quot;: 1.0, &quot;smoothFactor&quot;: 1.0, &quot;stroke&quot;: true, &quot;weight&quot;: 3}\n",
              "            ).addTo(map_1953ac5fcda04e60ff8dfa31f3c3398a);\n",
              "        \n",
              "    \n",
              "            var poly_line_46182d3f892ddc381a019fee352144bb = L.polyline(\n",
              "                [[13.8898393, 100.3565107], [13.8899571, 100.3561374], [13.889992, 100.3560305], [13.890078, 100.3557327], [13.890117, 100.3554887], [13.8901274, 100.3552258], [13.8900924, 100.3547239]],\n",
              "                {&quot;bubblingMouseEvents&quot;: true, &quot;color&quot;: &quot;#3388ff&quot;, &quot;dashArray&quot;: null, &quot;dashOffset&quot;: null, &quot;fill&quot;: false, &quot;fillColor&quot;: &quot;#3388ff&quot;, &quot;fillOpacity&quot;: 0.2, &quot;fillRule&quot;: &quot;evenodd&quot;, &quot;lineCap&quot;: &quot;round&quot;, &quot;lineJoin&quot;: &quot;round&quot;, &quot;noClip&quot;: false, &quot;opacity&quot;: 1.0, &quot;smoothFactor&quot;: 1.0, &quot;stroke&quot;: true, &quot;weight&quot;: 3}\n",
              "            ).addTo(map_1953ac5fcda04e60ff8dfa31f3c3398a);\n",
              "        \n",
              "    \n",
              "            var poly_line_33c532ea732101b7ed68237b0c3a2d62 = L.polyline(\n",
              "                [[13.8900924, 100.3547239], [13.8900889, 100.3546742]],\n",
              "                {&quot;bubblingMouseEvents&quot;: true, &quot;color&quot;: &quot;#3388ff&quot;, &quot;dashArray&quot;: null, &quot;dashOffset&quot;: null, &quot;fill&quot;: false, &quot;fillColor&quot;: &quot;#3388ff&quot;, &quot;fillOpacity&quot;: 0.2, &quot;fillRule&quot;: &quot;evenodd&quot;, &quot;lineCap&quot;: &quot;round&quot;, &quot;lineJoin&quot;: &quot;round&quot;, &quot;noClip&quot;: false, &quot;opacity&quot;: 1.0, &quot;smoothFactor&quot;: 1.0, &quot;stroke&quot;: true, &quot;weight&quot;: 3}\n",
              "            ).addTo(map_1953ac5fcda04e60ff8dfa31f3c3398a);\n",
              "        \n",
              "    \n",
              "            var poly_line_4de42c857e17d8e3684f31d5284c62a2 = L.polyline(\n",
              "                [[13.8900889, 100.3546742], [13.890078, 100.3545177], [13.8900637, 100.3543837]],\n",
              "                {&quot;bubblingMouseEvents&quot;: true, &quot;color&quot;: &quot;#3388ff&quot;, &quot;dashArray&quot;: null, &quot;dashOffset&quot;: null, &quot;fill&quot;: false, &quot;fillColor&quot;: &quot;#3388ff&quot;, &quot;fillOpacity&quot;: 0.2, &quot;fillRule&quot;: &quot;evenodd&quot;, &quot;lineCap&quot;: &quot;round&quot;, &quot;lineJoin&quot;: &quot;round&quot;, &quot;noClip&quot;: false, &quot;opacity&quot;: 1.0, &quot;smoothFactor&quot;: 1.0, &quot;stroke&quot;: true, &quot;weight&quot;: 3}\n",
              "            ).addTo(map_1953ac5fcda04e60ff8dfa31f3c3398a);\n",
              "        \n",
              "    \n",
              "            var poly_line_b75728e00ef150f3f745e7b8fe67bd01 = L.polyline(\n",
              "                [[13.8900637, 100.3543837], [13.8900464, 100.3541844]],\n",
              "                {&quot;bubblingMouseEvents&quot;: true, &quot;color&quot;: &quot;#3388ff&quot;, &quot;dashArray&quot;: null, &quot;dashOffset&quot;: null, &quot;fill&quot;: false, &quot;fillColor&quot;: &quot;#3388ff&quot;, &quot;fillOpacity&quot;: 0.2, &quot;fillRule&quot;: &quot;evenodd&quot;, &quot;lineCap&quot;: &quot;round&quot;, &quot;lineJoin&quot;: &quot;round&quot;, &quot;noClip&quot;: false, &quot;opacity&quot;: 1.0, &quot;smoothFactor&quot;: 1.0, &quot;stroke&quot;: true, &quot;weight&quot;: 3}\n",
              "            ).addTo(map_1953ac5fcda04e60ff8dfa31f3c3398a);\n",
              "        \n",
              "    \n",
              "            var poly_line_a213756418f3f139c9e35e85c89fbe07 = L.polyline(\n",
              "                [[13.8900464, 100.3541844], [13.8900285, 100.3539518], [13.8900129, 100.3536165], [13.8900023, 100.3532664]],\n",
              "                {&quot;bubblingMouseEvents&quot;: true, &quot;color&quot;: &quot;#3388ff&quot;, &quot;dashArray&quot;: null, &quot;dashOffset&quot;: null, &quot;fill&quot;: false, &quot;fillColor&quot;: &quot;#3388ff&quot;, &quot;fillOpacity&quot;: 0.2, &quot;fillRule&quot;: &quot;evenodd&quot;, &quot;lineCap&quot;: &quot;round&quot;, &quot;lineJoin&quot;: &quot;round&quot;, &quot;noClip&quot;: false, &quot;opacity&quot;: 1.0, &quot;smoothFactor&quot;: 1.0, &quot;stroke&quot;: true, &quot;weight&quot;: 3}\n",
              "            ).addTo(map_1953ac5fcda04e60ff8dfa31f3c3398a);\n",
              "        \n",
              "    \n",
              "            var poly_line_d2c6eb7e658d1b4a3c3510b3382bb44f = L.polyline(\n",
              "                [[13.8900023, 100.3532664], [13.8899894, 100.3527849], [13.889979, 100.3522271], [13.8899634, 100.3517309], [13.8899556, 100.3514439], [13.8899452, 100.3513446], [13.8899391, 100.3512796]],\n",
              "                {&quot;bubblingMouseEvents&quot;: true, &quot;color&quot;: &quot;#3388ff&quot;, &quot;dashArray&quot;: null, &quot;dashOffset&quot;: null, &quot;fill&quot;: false, &quot;fillColor&quot;: &quot;#3388ff&quot;, &quot;fillOpacity&quot;: 0.2, &quot;fillRule&quot;: &quot;evenodd&quot;, &quot;lineCap&quot;: &quot;round&quot;, &quot;lineJoin&quot;: &quot;round&quot;, &quot;noClip&quot;: false, &quot;opacity&quot;: 1.0, &quot;smoothFactor&quot;: 1.0, &quot;stroke&quot;: true, &quot;weight&quot;: 3}\n",
              "            ).addTo(map_1953ac5fcda04e60ff8dfa31f3c3398a);\n",
              "        \n",
              "    \n",
              "            var poly_line_ef7d8b12b5f159c6fabacf920a12c986 = L.polyline(\n",
              "                [[13.8899391, 100.3512796], [13.8901026, 100.3511294], [13.8902186, 100.3510228], [13.8905128, 100.3507867], [13.8907497, 100.3505829], [13.89111, 100.3502765], [13.8914215, 100.3500116], [13.8916064, 100.3498721], [13.891773, 100.3497119]],\n",
              "                {&quot;bubblingMouseEvents&quot;: true, &quot;color&quot;: &quot;#3388ff&quot;, &quot;dashArray&quot;: null, &quot;dashOffset&quot;: null, &quot;fill&quot;: false, &quot;fillColor&quot;: &quot;#3388ff&quot;, &quot;fillOpacity&quot;: 0.2, &quot;fillRule&quot;: &quot;evenodd&quot;, &quot;lineCap&quot;: &quot;round&quot;, &quot;lineJoin&quot;: &quot;round&quot;, &quot;noClip&quot;: false, &quot;opacity&quot;: 1.0, &quot;smoothFactor&quot;: 1.0, &quot;stroke&quot;: true, &quot;weight&quot;: 3}\n",
              "            ).addTo(map_1953ac5fcda04e60ff8dfa31f3c3398a);\n",
              "        \n",
              "    \n",
              "            var poly_line_b6b1bd8a74ca34d39a165b4f4c35f52f = L.polyline(\n",
              "                [[13.891773, 100.3497119], [13.8918121, 100.3496535], [13.8918811, 100.34951], [13.8919501, 100.3493223], [13.8920087, 100.349164], [13.8920321, 100.3490929], [13.8920412, 100.3489897], [13.8920542, 100.3487644], [13.8920777, 100.3485605], [13.8921506, 100.3483191], [13.892161, 100.3482226], [13.8921558, 100.3481474], [13.8921115, 100.3479704], [13.8919969, 100.3476164]],\n",
              "                {&quot;bubblingMouseEvents&quot;: true, &quot;color&quot;: &quot;#3388ff&quot;, &quot;dashArray&quot;: null, &quot;dashOffset&quot;: null, &quot;fill&quot;: false, &quot;fillColor&quot;: &quot;#3388ff&quot;, &quot;fillOpacity&quot;: 0.2, &quot;fillRule&quot;: &quot;evenodd&quot;, &quot;lineCap&quot;: &quot;round&quot;, &quot;lineJoin&quot;: &quot;round&quot;, &quot;noClip&quot;: false, &quot;opacity&quot;: 1.0, &quot;smoothFactor&quot;: 1.0, &quot;stroke&quot;: true, &quot;weight&quot;: 3}\n",
              "            ).addTo(map_1953ac5fcda04e60ff8dfa31f3c3398a);\n",
              "        \n",
              "    \n",
              "            var poly_line_94dbdc9e20b59467d94dff8197b5d0a9 = L.polyline(\n",
              "                [[13.8919969, 100.3476164], [13.8919682, 100.3475164]],\n",
              "                {&quot;bubblingMouseEvents&quot;: true, &quot;color&quot;: &quot;#3388ff&quot;, &quot;dashArray&quot;: null, &quot;dashOffset&quot;: null, &quot;fill&quot;: false, &quot;fillColor&quot;: &quot;#3388ff&quot;, &quot;fillOpacity&quot;: 0.2, &quot;fillRule&quot;: &quot;evenodd&quot;, &quot;lineCap&quot;: &quot;round&quot;, &quot;lineJoin&quot;: &quot;round&quot;, &quot;noClip&quot;: false, &quot;opacity&quot;: 1.0, &quot;smoothFactor&quot;: 1.0, &quot;stroke&quot;: true, &quot;weight&quot;: 3}\n",
              "            ).addTo(map_1953ac5fcda04e60ff8dfa31f3c3398a);\n",
              "        \n",
              "    \n",
              "            var poly_line_51fe4faba7ca0fd838ae449e6cc9b4b2 = L.polyline(\n",
              "                [[13.8919682, 100.3475164], [13.8918568, 100.3471313], [13.8917496, 100.3467607], [13.8916876, 100.346576], [13.8916034, 100.3463254], [13.8915937, 100.3462981], [13.8914046, 100.3457683], [13.8912746, 100.345386], [13.8911794, 100.3451058], [13.890932, 100.3444004], [13.8909036, 100.3443242], [13.8908252, 100.3441134], [13.8907315, 100.3439095], [13.8906716, 100.3438452], [13.8905571, 100.3437674], [13.8904503, 100.3436494]],\n",
              "                {&quot;bubblingMouseEvents&quot;: true, &quot;color&quot;: &quot;#3388ff&quot;, &quot;dashArray&quot;: null, &quot;dashOffset&quot;: null, &quot;fill&quot;: false, &quot;fillColor&quot;: &quot;#3388ff&quot;, &quot;fillOpacity&quot;: 0.2, &quot;fillRule&quot;: &quot;evenodd&quot;, &quot;lineCap&quot;: &quot;round&quot;, &quot;lineJoin&quot;: &quot;round&quot;, &quot;noClip&quot;: false, &quot;opacity&quot;: 1.0, &quot;smoothFactor&quot;: 1.0, &quot;stroke&quot;: true, &quot;weight&quot;: 3}\n",
              "            ).addTo(map_1953ac5fcda04e60ff8dfa31f3c3398a);\n",
              "        \n",
              "    \n",
              "            var poly_line_468d8bee498398ac756b2eb64afebd66 = L.polyline(\n",
              "                [[13.8904503, 100.3436494], [13.8904321, 100.3435823], [13.8904034, 100.3434737], [13.8903305, 100.3432095], [13.8903193, 100.3430743]],\n",
              "                {&quot;bubblingMouseEvents&quot;: true, &quot;color&quot;: &quot;#3388ff&quot;, &quot;dashArray&quot;: null, &quot;dashOffset&quot;: null, &quot;fill&quot;: false, &quot;fillColor&quot;: &quot;#3388ff&quot;, &quot;fillOpacity&quot;: 0.2, &quot;fillRule&quot;: &quot;evenodd&quot;, &quot;lineCap&quot;: &quot;round&quot;, &quot;lineJoin&quot;: &quot;round&quot;, &quot;noClip&quot;: false, &quot;opacity&quot;: 1.0, &quot;smoothFactor&quot;: 1.0, &quot;stroke&quot;: true, &quot;weight&quot;: 3}\n",
              "            ).addTo(map_1953ac5fcda04e60ff8dfa31f3c3398a);\n",
              "        \n",
              "    \n",
              "            var poly_line_1ed33ebd4b716a0f4206daaa019aa619 = L.polyline(\n",
              "                [[13.8903193, 100.3430743], [13.8903227, 100.3429761], [13.8903405, 100.3428625], [13.8903488, 100.3428099], [13.8903214, 100.3426488], [13.8902134, 100.3422707], [13.8900623, 100.3416297], [13.8899374, 100.3410342], [13.8898254, 100.3406212], [13.8897369, 100.3402456], [13.8895781, 100.339559], [13.8893932, 100.3388401], [13.8891988, 100.3380337]],\n",
              "                {&quot;bubblingMouseEvents&quot;: true, &quot;color&quot;: &quot;#3388ff&quot;, &quot;dashArray&quot;: null, &quot;dashOffset&quot;: null, &quot;fill&quot;: false, &quot;fillColor&quot;: &quot;#3388ff&quot;, &quot;fillOpacity&quot;: 0.2, &quot;fillRule&quot;: &quot;evenodd&quot;, &quot;lineCap&quot;: &quot;round&quot;, &quot;lineJoin&quot;: &quot;round&quot;, &quot;noClip&quot;: false, &quot;opacity&quot;: 1.0, &quot;smoothFactor&quot;: 1.0, &quot;stroke&quot;: true, &quot;weight&quot;: 3}\n",
              "            ).addTo(map_1953ac5fcda04e60ff8dfa31f3c3398a);\n",
              "        \n",
              "    \n",
              "            var poly_line_93787547c1d3c22b8710fe7d886b197c = L.polyline(\n",
              "                [[13.8891988, 100.3380337], [13.8891859, 100.3379875], [13.8891042, 100.3376949], [13.8889167, 100.3369492], [13.8888593, 100.3367109], [13.8888224, 100.3365421], [13.8886758, 100.335871], [13.8887045, 100.3358603], [13.8888412, 100.3358267], [13.8888724, 100.3357999]],\n",
              "                {&quot;bubblingMouseEvents&quot;: true, &quot;color&quot;: &quot;#3388ff&quot;, &quot;dashArray&quot;: null, &quot;dashOffset&quot;: null, &quot;fill&quot;: false, &quot;fillColor&quot;: &quot;#3388ff&quot;, &quot;fillOpacity&quot;: 0.2, &quot;fillRule&quot;: &quot;evenodd&quot;, &quot;lineCap&quot;: &quot;round&quot;, &quot;lineJoin&quot;: &quot;round&quot;, &quot;noClip&quot;: false, &quot;opacity&quot;: 1.0, &quot;smoothFactor&quot;: 1.0, &quot;stroke&quot;: true, &quot;weight&quot;: 3}\n",
              "            ).addTo(map_1953ac5fcda04e60ff8dfa31f3c3398a);\n",
              "        \n",
              "    \n",
              "            var poly_line_7d9ff210a96a8ae53528f8901293ad63 = L.polyline(\n",
              "                [[13.8888724, 100.3357999], [13.8888776, 100.3357717], [13.8888761, 100.3357563], [13.8888743, 100.3357389], [13.8888138, 100.3353547], [13.888762, 100.3351695]],\n",
              "                {&quot;bubblingMouseEvents&quot;: true, &quot;color&quot;: &quot;#3388ff&quot;, &quot;dashArray&quot;: null, &quot;dashOffset&quot;: null, &quot;fill&quot;: false, &quot;fillColor&quot;: &quot;#3388ff&quot;, &quot;fillOpacity&quot;: 0.2, &quot;fillRule&quot;: &quot;evenodd&quot;, &quot;lineCap&quot;: &quot;round&quot;, &quot;lineJoin&quot;: &quot;round&quot;, &quot;noClip&quot;: false, &quot;opacity&quot;: 1.0, &quot;smoothFactor&quot;: 1.0, &quot;stroke&quot;: true, &quot;weight&quot;: 3}\n",
              "            ).addTo(map_1953ac5fcda04e60ff8dfa31f3c3398a);\n",
              "        \n",
              "    \n",
              "            var poly_line_296f165a4d210151f6845ffb1a29c468 = L.polyline(\n",
              "                [[13.888762, 100.3351695], [13.8887519, 100.3351279], [13.8886719, 100.3347994], [13.8886084, 100.3345127]],\n",
              "                {&quot;bubblingMouseEvents&quot;: true, &quot;color&quot;: &quot;#3388ff&quot;, &quot;dashArray&quot;: null, &quot;dashOffset&quot;: null, &quot;fill&quot;: false, &quot;fillColor&quot;: &quot;#3388ff&quot;, &quot;fillOpacity&quot;: 0.2, &quot;fillRule&quot;: &quot;evenodd&quot;, &quot;lineCap&quot;: &quot;round&quot;, &quot;lineJoin&quot;: &quot;round&quot;, &quot;noClip&quot;: false, &quot;opacity&quot;: 1.0, &quot;smoothFactor&quot;: 1.0, &quot;stroke&quot;: true, &quot;weight&quot;: 3}\n",
              "            ).addTo(map_1953ac5fcda04e60ff8dfa31f3c3398a);\n",
              "        \n",
              "    \n",
              "            var poly_line_4e7f67ddfa5e682eade7d7008b2eef34 = L.polyline(\n",
              "                [[13.8886084, 100.3345127], [13.888573, 100.3343528], [13.8885554, 100.3342773], [13.8884688, 100.3339063], [13.8884199, 100.3337214]],\n",
              "                {&quot;bubblingMouseEvents&quot;: true, &quot;color&quot;: &quot;#3388ff&quot;, &quot;dashArray&quot;: null, &quot;dashOffset&quot;: null, &quot;fill&quot;: false, &quot;fillColor&quot;: &quot;#3388ff&quot;, &quot;fillOpacity&quot;: 0.2, &quot;fillRule&quot;: &quot;evenodd&quot;, &quot;lineCap&quot;: &quot;round&quot;, &quot;lineJoin&quot;: &quot;round&quot;, &quot;noClip&quot;: false, &quot;opacity&quot;: 1.0, &quot;smoothFactor&quot;: 1.0, &quot;stroke&quot;: true, &quot;weight&quot;: 3}\n",
              "            ).addTo(map_1953ac5fcda04e60ff8dfa31f3c3398a);\n",
              "        \n",
              "    \n",
              "            var poly_line_d3c1cb4a0c21a8b30a4e3407577ed520 = L.polyline(\n",
              "                [[13.8884199, 100.3337214], [13.8883523, 100.3334502], [13.8882872, 100.3331533]],\n",
              "                {&quot;bubblingMouseEvents&quot;: true, &quot;color&quot;: &quot;#3388ff&quot;, &quot;dashArray&quot;: null, &quot;dashOffset&quot;: null, &quot;fill&quot;: false, &quot;fillColor&quot;: &quot;#3388ff&quot;, &quot;fillOpacity&quot;: 0.2, &quot;fillRule&quot;: &quot;evenodd&quot;, &quot;lineCap&quot;: &quot;round&quot;, &quot;lineJoin&quot;: &quot;round&quot;, &quot;noClip&quot;: false, &quot;opacity&quot;: 1.0, &quot;smoothFactor&quot;: 1.0, &quot;stroke&quot;: true, &quot;weight&quot;: 3}\n",
              "            ).addTo(map_1953ac5fcda04e60ff8dfa31f3c3398a);\n",
              "        \n",
              "    \n",
              "            var poly_line_4ac35099ea27616bdf3e5b252b3b659e = L.polyline(\n",
              "                [[13.8882872, 100.3331533], [13.8882345, 100.3329648]],\n",
              "                {&quot;bubblingMouseEvents&quot;: true, &quot;color&quot;: &quot;#3388ff&quot;, &quot;dashArray&quot;: null, &quot;dashOffset&quot;: null, &quot;fill&quot;: false, &quot;fillColor&quot;: &quot;#3388ff&quot;, &quot;fillOpacity&quot;: 0.2, &quot;fillRule&quot;: &quot;evenodd&quot;, &quot;lineCap&quot;: &quot;round&quot;, &quot;lineJoin&quot;: &quot;round&quot;, &quot;noClip&quot;: false, &quot;opacity&quot;: 1.0, &quot;smoothFactor&quot;: 1.0, &quot;stroke&quot;: true, &quot;weight&quot;: 3}\n",
              "            ).addTo(map_1953ac5fcda04e60ff8dfa31f3c3398a);\n",
              "        \n",
              "    \n",
              "            var poly_line_4b9ad875890a38a8bd64a6cf236a1dec = L.polyline(\n",
              "                [[13.8882345, 100.3329648], [13.8881453, 100.3326108], [13.888004, 100.3322205], [13.887939, 100.3319214], [13.887936, 100.3316762], [13.8879533, 100.3316226], [13.8879697, 100.3315726]],\n",
              "                {&quot;bubblingMouseEvents&quot;: true, &quot;color&quot;: &quot;#3388ff&quot;, &quot;dashArray&quot;: null, &quot;dashOffset&quot;: null, &quot;fill&quot;: false, &quot;fillColor&quot;: &quot;#3388ff&quot;, &quot;fillOpacity&quot;: 0.2, &quot;fillRule&quot;: &quot;evenodd&quot;, &quot;lineCap&quot;: &quot;round&quot;, &quot;lineJoin&quot;: &quot;round&quot;, &quot;noClip&quot;: false, &quot;opacity&quot;: 1.0, &quot;smoothFactor&quot;: 1.0, &quot;stroke&quot;: true, &quot;weight&quot;: 3}\n",
              "            ).addTo(map_1953ac5fcda04e60ff8dfa31f3c3398a);\n",
              "        \n",
              "    \n",
              "            var poly_line_6eece7f5f893da8f30b34b9179013594 = L.polyline(\n",
              "                [[13.8879697, 100.3315726], [13.8880122, 100.3315415], [13.8880774, 100.3315178], [13.8882334, 100.3314917], [13.8883774, 100.331469]],\n",
              "                {&quot;bubblingMouseEvents&quot;: true, &quot;color&quot;: &quot;#3388ff&quot;, &quot;dashArray&quot;: null, &quot;dashOffset&quot;: null, &quot;fill&quot;: false, &quot;fillColor&quot;: &quot;#3388ff&quot;, &quot;fillOpacity&quot;: 0.2, &quot;fillRule&quot;: &quot;evenodd&quot;, &quot;lineCap&quot;: &quot;round&quot;, &quot;lineJoin&quot;: &quot;round&quot;, &quot;noClip&quot;: false, &quot;opacity&quot;: 1.0, &quot;smoothFactor&quot;: 1.0, &quot;stroke&quot;: true, &quot;weight&quot;: 3}\n",
              "            ).addTo(map_1953ac5fcda04e60ff8dfa31f3c3398a);\n",
              "        \n",
              "    \n",
              "            var poly_line_d88660703b2ea219ea5bcc1ce68f0001 = L.polyline(\n",
              "                [[13.8883774, 100.331469], [13.8883743, 100.3314464], [13.8883517, 100.3312416], [13.8883471, 100.3311959]],\n",
              "                {&quot;bubblingMouseEvents&quot;: true, &quot;color&quot;: &quot;#3388ff&quot;, &quot;dashArray&quot;: null, &quot;dashOffset&quot;: null, &quot;fill&quot;: false, &quot;fillColor&quot;: &quot;#3388ff&quot;, &quot;fillOpacity&quot;: 0.2, &quot;fillRule&quot;: &quot;evenodd&quot;, &quot;lineCap&quot;: &quot;round&quot;, &quot;lineJoin&quot;: &quot;round&quot;, &quot;noClip&quot;: false, &quot;opacity&quot;: 1.0, &quot;smoothFactor&quot;: 1.0, &quot;stroke&quot;: true, &quot;weight&quot;: 3}\n",
              "            ).addTo(map_1953ac5fcda04e60ff8dfa31f3c3398a);\n",
              "        \n",
              "    \n",
              "            var poly_line_7772a11b9a23254893af80e83a051ff9 = L.polyline(\n",
              "                [[13.8883471, 100.3311959], [13.888657, 100.3311386], [13.8887006, 100.3311221]],\n",
              "                {&quot;bubblingMouseEvents&quot;: true, &quot;color&quot;: &quot;#3388ff&quot;, &quot;dashArray&quot;: null, &quot;dashOffset&quot;: null, &quot;fill&quot;: false, &quot;fillColor&quot;: &quot;#3388ff&quot;, &quot;fillOpacity&quot;: 0.2, &quot;fillRule&quot;: &quot;evenodd&quot;, &quot;lineCap&quot;: &quot;round&quot;, &quot;lineJoin&quot;: &quot;round&quot;, &quot;noClip&quot;: false, &quot;opacity&quot;: 1.0, &quot;smoothFactor&quot;: 1.0, &quot;stroke&quot;: true, &quot;weight&quot;: 3}\n",
              "            ).addTo(map_1953ac5fcda04e60ff8dfa31f3c3398a);\n",
              "        \n",
              "    \n",
              "            var poly_line_cb2e16c031601990a3f579bee2368002 = L.polyline(\n",
              "                [[13.8887006, 100.3311221], [13.8887129, 100.3310611], [13.8887123, 100.3310081], [13.888694, 100.3309545], [13.8886224, 100.3307265], [13.8884376, 100.3301298], [13.8882983, 100.3296308], [13.8881895, 100.3292871], [13.8881641, 100.329207], [13.8880697, 100.3289522], [13.8878621, 100.328397], [13.8877046, 100.3279845], [13.8876237, 100.3277195], [13.8875627, 100.3274408], [13.8875392, 100.3272772], [13.8875139, 100.3270519], [13.8875119, 100.3268829], [13.8875158, 100.3267763], [13.8875425, 100.3266656], [13.8876193, 100.3264578], [13.8876493, 100.3262674], [13.8876526, 100.3260783], [13.8876518, 100.3259542]],\n",
              "                {&quot;bubblingMouseEvents&quot;: true, &quot;color&quot;: &quot;#3388ff&quot;, &quot;dashArray&quot;: null, &quot;dashOffset&quot;: null, &quot;fill&quot;: false, &quot;fillColor&quot;: &quot;#3388ff&quot;, &quot;fillOpacity&quot;: 0.2, &quot;fillRule&quot;: &quot;evenodd&quot;, &quot;lineCap&quot;: &quot;round&quot;, &quot;lineJoin&quot;: &quot;round&quot;, &quot;noClip&quot;: false, &quot;opacity&quot;: 1.0, &quot;smoothFactor&quot;: 1.0, &quot;stroke&quot;: true, &quot;weight&quot;: 3}\n",
              "            ).addTo(map_1953ac5fcda04e60ff8dfa31f3c3398a);\n",
              "        \n",
              "    \n",
              "            var poly_line_8a3d195d3521a4d736ee4c7f102982da = L.polyline(\n",
              "                [[13.8876518, 100.3259542], [13.8876908, 100.325943], [13.8878695, 100.3258957], [13.8879098, 100.3258824]],\n",
              "                {&quot;bubblingMouseEvents&quot;: true, &quot;color&quot;: &quot;#3388ff&quot;, &quot;dashArray&quot;: null, &quot;dashOffset&quot;: null, &quot;fill&quot;: false, &quot;fillColor&quot;: &quot;#3388ff&quot;, &quot;fillOpacity&quot;: 0.2, &quot;fillRule&quot;: &quot;evenodd&quot;, &quot;lineCap&quot;: &quot;round&quot;, &quot;lineJoin&quot;: &quot;round&quot;, &quot;noClip&quot;: false, &quot;opacity&quot;: 1.0, &quot;smoothFactor&quot;: 1.0, &quot;stroke&quot;: true, &quot;weight&quot;: 3}\n",
              "            ).addTo(map_1953ac5fcda04e60ff8dfa31f3c3398a);\n",
              "        \n",
              "    \n",
              "            var poly_line_d2d210393dfc730f960ae2bdfaa8b947 = L.polyline(\n",
              "                [[13.8879098, 100.3258824], [13.8882174, 100.3258119], [13.8882575, 100.3258027], [13.8884745, 100.3257644], [13.888543, 100.3257523], [13.8888427, 100.3257174], [13.8890136, 100.3256998], [13.8892962, 100.3256707], [13.8893439, 100.3256705], [13.8894557, 100.3256665], [13.889593, 100.3256671], [13.8900994, 100.3256603], [13.8902832, 100.3256578]],\n",
              "                {&quot;bubblingMouseEvents&quot;: true, &quot;color&quot;: &quot;#3388ff&quot;, &quot;dashArray&quot;: null, &quot;dashOffset&quot;: null, &quot;fill&quot;: false, &quot;fillColor&quot;: &quot;#3388ff&quot;, &quot;fillOpacity&quot;: 0.2, &quot;fillRule&quot;: &quot;evenodd&quot;, &quot;lineCap&quot;: &quot;round&quot;, &quot;lineJoin&quot;: &quot;round&quot;, &quot;noClip&quot;: false, &quot;opacity&quot;: 1.0, &quot;smoothFactor&quot;: 1.0, &quot;stroke&quot;: true, &quot;weight&quot;: 3}\n",
              "            ).addTo(map_1953ac5fcda04e60ff8dfa31f3c3398a);\n",
              "        \n",
              "    \n",
              "            var poly_line_40af759ac2ec7c766a20911df12d36af = L.polyline(\n",
              "                [[13.8902832, 100.3256578], [13.8906258, 100.3256486]],\n",
              "                {&quot;bubblingMouseEvents&quot;: true, &quot;color&quot;: &quot;#3388ff&quot;, &quot;dashArray&quot;: null, &quot;dashOffset&quot;: null, &quot;fill&quot;: false, &quot;fillColor&quot;: &quot;#3388ff&quot;, &quot;fillOpacity&quot;: 0.2, &quot;fillRule&quot;: &quot;evenodd&quot;, &quot;lineCap&quot;: &quot;round&quot;, &quot;lineJoin&quot;: &quot;round&quot;, &quot;noClip&quot;: false, &quot;opacity&quot;: 1.0, &quot;smoothFactor&quot;: 1.0, &quot;stroke&quot;: true, &quot;weight&quot;: 3}\n",
              "            ).addTo(map_1953ac5fcda04e60ff8dfa31f3c3398a);\n",
              "        \n",
              "    \n",
              "            var poly_line_bb8c06b6493fc5f7f8be5f602ce26680 = L.polyline(\n",
              "                [[13.8906258, 100.3256486], [13.8906902, 100.3256475]],\n",
              "                {&quot;bubblingMouseEvents&quot;: true, &quot;color&quot;: &quot;#3388ff&quot;, &quot;dashArray&quot;: null, &quot;dashOffset&quot;: null, &quot;fill&quot;: false, &quot;fillColor&quot;: &quot;#3388ff&quot;, &quot;fillOpacity&quot;: 0.2, &quot;fillRule&quot;: &quot;evenodd&quot;, &quot;lineCap&quot;: &quot;round&quot;, &quot;lineJoin&quot;: &quot;round&quot;, &quot;noClip&quot;: false, &quot;opacity&quot;: 1.0, &quot;smoothFactor&quot;: 1.0, &quot;stroke&quot;: true, &quot;weight&quot;: 3}\n",
              "            ).addTo(map_1953ac5fcda04e60ff8dfa31f3c3398a);\n",
              "        \n",
              "    \n",
              "            var poly_line_0cb8720a93d4c413e278979a7bf14425 = L.polyline(\n",
              "                [[13.8906902, 100.3256475], [13.8906245, 100.3249269], [13.8905957, 100.3245999], [13.8905241, 100.3238264], [13.890508, 100.3236488], [13.8904805, 100.3234183], [13.8904432, 100.323209], [13.8903413, 100.3226935], [13.8900978, 100.3214611], [13.8900792, 100.3213565], [13.8900592, 100.3212459], [13.8899753, 100.3203603], [13.8899632, 100.32021], [13.8899511, 100.3201071], [13.8899453, 100.3200644], [13.8898978, 100.3197081], [13.889776, 100.318833]],\n",
              "                {&quot;bubblingMouseEvents&quot;: true, &quot;color&quot;: &quot;#3388ff&quot;, &quot;dashArray&quot;: null, &quot;dashOffset&quot;: null, &quot;fill&quot;: false, &quot;fillColor&quot;: &quot;#3388ff&quot;, &quot;fillOpacity&quot;: 0.2, &quot;fillRule&quot;: &quot;evenodd&quot;, &quot;lineCap&quot;: &quot;round&quot;, &quot;lineJoin&quot;: &quot;round&quot;, &quot;noClip&quot;: false, &quot;opacity&quot;: 1.0, &quot;smoothFactor&quot;: 1.0, &quot;stroke&quot;: true, &quot;weight&quot;: 3}\n",
              "            ).addTo(map_1953ac5fcda04e60ff8dfa31f3c3398a);\n",
              "        \n",
              "    \n",
              "            var poly_line_769932018a391120b7b8a8030109b74d = L.polyline(\n",
              "                [[13.889776, 100.318833], [13.8896829, 100.3181037]],\n",
              "                {&quot;bubblingMouseEvents&quot;: true, &quot;color&quot;: &quot;#3388ff&quot;, &quot;dashArray&quot;: null, &quot;dashOffset&quot;: null, &quot;fill&quot;: false, &quot;fillColor&quot;: &quot;#3388ff&quot;, &quot;fillOpacity&quot;: 0.2, &quot;fillRule&quot;: &quot;evenodd&quot;, &quot;lineCap&quot;: &quot;round&quot;, &quot;lineJoin&quot;: &quot;round&quot;, &quot;noClip&quot;: false, &quot;opacity&quot;: 1.0, &quot;smoothFactor&quot;: 1.0, &quot;stroke&quot;: true, &quot;weight&quot;: 3}\n",
              "            ).addTo(map_1953ac5fcda04e60ff8dfa31f3c3398a);\n",
              "        \n",
              "    \n",
              "            var poly_line_3812cadc013f572204ca6806afa49eb7 = L.polyline(\n",
              "                [[13.8896829, 100.3181037], [13.8896495, 100.3174276], [13.8896539, 100.3169428]],\n",
              "                {&quot;bubblingMouseEvents&quot;: true, &quot;color&quot;: &quot;#3388ff&quot;, &quot;dashArray&quot;: null, &quot;dashOffset&quot;: null, &quot;fill&quot;: false, &quot;fillColor&quot;: &quot;#3388ff&quot;, &quot;fillOpacity&quot;: 0.2, &quot;fillRule&quot;: &quot;evenodd&quot;, &quot;lineCap&quot;: &quot;round&quot;, &quot;lineJoin&quot;: &quot;round&quot;, &quot;noClip&quot;: false, &quot;opacity&quot;: 1.0, &quot;smoothFactor&quot;: 1.0, &quot;stroke&quot;: true, &quot;weight&quot;: 3}\n",
              "            ).addTo(map_1953ac5fcda04e60ff8dfa31f3c3398a);\n",
              "        \n",
              "    \n",
              "            var poly_line_7ca2b2d1b5f9cf66ca5c1bff74f5d3f1 = L.polyline(\n",
              "                [[13.8896539, 100.3169428], [13.8896532, 100.3156854], [13.889634, 100.3152998], [13.8896175, 100.3149341], [13.8895801, 100.3144183], [13.8895663, 100.3143181], [13.8895382, 100.314206], [13.8894402, 100.3138235], [13.889256, 100.3131416]],\n",
              "                {&quot;bubblingMouseEvents&quot;: true, &quot;color&quot;: &quot;#3388ff&quot;, &quot;dashArray&quot;: null, &quot;dashOffset&quot;: null, &quot;fill&quot;: false, &quot;fillColor&quot;: &quot;#3388ff&quot;, &quot;fillOpacity&quot;: 0.2, &quot;fillRule&quot;: &quot;evenodd&quot;, &quot;lineCap&quot;: &quot;round&quot;, &quot;lineJoin&quot;: &quot;round&quot;, &quot;noClip&quot;: false, &quot;opacity&quot;: 1.0, &quot;smoothFactor&quot;: 1.0, &quot;stroke&quot;: true, &quot;weight&quot;: 3}\n",
              "            ).addTo(map_1953ac5fcda04e60ff8dfa31f3c3398a);\n",
              "        \n",
              "    \n",
              "            var poly_line_37f52e73721cb09d5327852bd94f1254 = L.polyline(\n",
              "                [[13.889256, 100.3131416], [13.8892509, 100.3131201], [13.8892238, 100.3130065], [13.8892172, 100.3129785]],\n",
              "                {&quot;bubblingMouseEvents&quot;: true, &quot;color&quot;: &quot;#3388ff&quot;, &quot;dashArray&quot;: null, &quot;dashOffset&quot;: null, &quot;fill&quot;: false, &quot;fillColor&quot;: &quot;#3388ff&quot;, &quot;fillOpacity&quot;: 0.2, &quot;fillRule&quot;: &quot;evenodd&quot;, &quot;lineCap&quot;: &quot;round&quot;, &quot;lineJoin&quot;: &quot;round&quot;, &quot;noClip&quot;: false, &quot;opacity&quot;: 1.0, &quot;smoothFactor&quot;: 1.0, &quot;stroke&quot;: true, &quot;weight&quot;: 3}\n",
              "            ).addTo(map_1953ac5fcda04e60ff8dfa31f3c3398a);\n",
              "        \n",
              "    \n",
              "            var poly_line_a8b021bd90968eff13f15843e14aa47d = L.polyline(\n",
              "                [[13.8892172, 100.3129785], [13.8891596, 100.312737], [13.8891306, 100.3126155], [13.8890365, 100.3122196], [13.8889804, 100.3119983], [13.8888814, 100.3115798], [13.8886967, 100.3106985], [13.8884321, 100.3093143], [13.8883643, 100.3088242], [13.8883178, 100.3084568], [13.8882067, 100.3075338], [13.8881678, 100.307153], [13.8881238, 100.3066738], [13.8880604, 100.3057587]],\n",
              "                {&quot;bubblingMouseEvents&quot;: true, &quot;color&quot;: &quot;#3388ff&quot;, &quot;dashArray&quot;: null, &quot;dashOffset&quot;: null, &quot;fill&quot;: false, &quot;fillColor&quot;: &quot;#3388ff&quot;, &quot;fillOpacity&quot;: 0.2, &quot;fillRule&quot;: &quot;evenodd&quot;, &quot;lineCap&quot;: &quot;round&quot;, &quot;lineJoin&quot;: &quot;round&quot;, &quot;noClip&quot;: false, &quot;opacity&quot;: 1.0, &quot;smoothFactor&quot;: 1.0, &quot;stroke&quot;: true, &quot;weight&quot;: 3}\n",
              "            ).addTo(map_1953ac5fcda04e60ff8dfa31f3c3398a);\n",
              "        \n",
              "    \n",
              "            var poly_line_1efef2c5fde0d036047ebe158fc3ebdd = L.polyline(\n",
              "                [[13.8880604, 100.3057587], [13.8879178, 100.3034247]],\n",
              "                {&quot;bubblingMouseEvents&quot;: true, &quot;color&quot;: &quot;#3388ff&quot;, &quot;dashArray&quot;: null, &quot;dashOffset&quot;: null, &quot;fill&quot;: false, &quot;fillColor&quot;: &quot;#3388ff&quot;, &quot;fillOpacity&quot;: 0.2, &quot;fillRule&quot;: &quot;evenodd&quot;, &quot;lineCap&quot;: &quot;round&quot;, &quot;lineJoin&quot;: &quot;round&quot;, &quot;noClip&quot;: false, &quot;opacity&quot;: 1.0, &quot;smoothFactor&quot;: 1.0, &quot;stroke&quot;: true, &quot;weight&quot;: 3}\n",
              "            ).addTo(map_1953ac5fcda04e60ff8dfa31f3c3398a);\n",
              "        \n",
              "    \n",
              "            var poly_line_9a97df111b778d61ec84eaeab9e13d98 = L.polyline(\n",
              "                [[13.8879178, 100.3034247], [13.8878863, 100.3029097], [13.8878069, 100.3025212]],\n",
              "                {&quot;bubblingMouseEvents&quot;: true, &quot;color&quot;: &quot;#3388ff&quot;, &quot;dashArray&quot;: null, &quot;dashOffset&quot;: null, &quot;fill&quot;: false, &quot;fillColor&quot;: &quot;#3388ff&quot;, &quot;fillOpacity&quot;: 0.2, &quot;fillRule&quot;: &quot;evenodd&quot;, &quot;lineCap&quot;: &quot;round&quot;, &quot;lineJoin&quot;: &quot;round&quot;, &quot;noClip&quot;: false, &quot;opacity&quot;: 1.0, &quot;smoothFactor&quot;: 1.0, &quot;stroke&quot;: true, &quot;weight&quot;: 3}\n",
              "            ).addTo(map_1953ac5fcda04e60ff8dfa31f3c3398a);\n",
              "        \n",
              "    \n",
              "            var poly_line_058e75620fd6ca6f43b93c725db030ae = L.polyline(\n",
              "                [[13.8878069, 100.3025212], [13.8875896, 100.3019798]],\n",
              "                {&quot;bubblingMouseEvents&quot;: true, &quot;color&quot;: &quot;#3388ff&quot;, &quot;dashArray&quot;: null, &quot;dashOffset&quot;: null, &quot;fill&quot;: false, &quot;fillColor&quot;: &quot;#3388ff&quot;, &quot;fillOpacity&quot;: 0.2, &quot;fillRule&quot;: &quot;evenodd&quot;, &quot;lineCap&quot;: &quot;round&quot;, &quot;lineJoin&quot;: &quot;round&quot;, &quot;noClip&quot;: false, &quot;opacity&quot;: 1.0, &quot;smoothFactor&quot;: 1.0, &quot;stroke&quot;: true, &quot;weight&quot;: 3}\n",
              "            ).addTo(map_1953ac5fcda04e60ff8dfa31f3c3398a);\n",
              "        \n",
              "    \n",
              "            var poly_line_268de6806d3ef120ff06c0287d7b6865 = L.polyline(\n",
              "                [[13.8875896, 100.3019798], [13.8872555, 100.3011471], [13.8872356, 100.3010764]],\n",
              "                {&quot;bubblingMouseEvents&quot;: true, &quot;color&quot;: &quot;#3388ff&quot;, &quot;dashArray&quot;: null, &quot;dashOffset&quot;: null, &quot;fill&quot;: false, &quot;fillColor&quot;: &quot;#3388ff&quot;, &quot;fillOpacity&quot;: 0.2, &quot;fillRule&quot;: &quot;evenodd&quot;, &quot;lineCap&quot;: &quot;round&quot;, &quot;lineJoin&quot;: &quot;round&quot;, &quot;noClip&quot;: false, &quot;opacity&quot;: 1.0, &quot;smoothFactor&quot;: 1.0, &quot;stroke&quot;: true, &quot;weight&quot;: 3}\n",
              "            ).addTo(map_1953ac5fcda04e60ff8dfa31f3c3398a);\n",
              "        \n",
              "    \n",
              "            var poly_line_84a4a9fe3102c22db9d7945374f297e2 = L.polyline(\n",
              "                [[13.8872356, 100.3010764], [13.8872137, 100.3009983], [13.8871878, 100.3008413], [13.887004, 100.2996083], [13.8869092, 100.2991476], [13.8868805, 100.2989665], [13.8868305, 100.2985769], [13.8868153, 100.2984589], [13.8867454, 100.2976075], [13.8867054, 100.2971468], [13.8866905, 100.2969743], [13.886668, 100.2968129], [13.8866292, 100.2966316], [13.8866283, 100.2965927]],\n",
              "                {&quot;bubblingMouseEvents&quot;: true, &quot;color&quot;: &quot;#3388ff&quot;, &quot;dashArray&quot;: null, &quot;dashOffset&quot;: null, &quot;fill&quot;: false, &quot;fillColor&quot;: &quot;#3388ff&quot;, &quot;fillOpacity&quot;: 0.2, &quot;fillRule&quot;: &quot;evenodd&quot;, &quot;lineCap&quot;: &quot;round&quot;, &quot;lineJoin&quot;: &quot;round&quot;, &quot;noClip&quot;: false, &quot;opacity&quot;: 1.0, &quot;smoothFactor&quot;: 1.0, &quot;stroke&quot;: true, &quot;weight&quot;: 3}\n",
              "            ).addTo(map_1953ac5fcda04e60ff8dfa31f3c3398a);\n",
              "        \n",
              "    \n",
              "            var poly_line_f546a9d7d100b9d3b7610d947d4ddf90 = L.polyline(\n",
              "                [[13.8866283, 100.2965927], [13.8866501, 100.2965558], [13.8866904, 100.2965418], [13.8873063, 100.2964159], [13.8876356, 100.2963487], [13.8879111, 100.2962932]],\n",
              "                {&quot;bubblingMouseEvents&quot;: true, &quot;color&quot;: &quot;#3388ff&quot;, &quot;dashArray&quot;: null, &quot;dashOffset&quot;: null, &quot;fill&quot;: false, &quot;fillColor&quot;: &quot;#3388ff&quot;, &quot;fillOpacity&quot;: 0.2, &quot;fillRule&quot;: &quot;evenodd&quot;, &quot;lineCap&quot;: &quot;round&quot;, &quot;lineJoin&quot;: &quot;round&quot;, &quot;noClip&quot;: false, &quot;opacity&quot;: 1.0, &quot;smoothFactor&quot;: 1.0, &quot;stroke&quot;: true, &quot;weight&quot;: 3}\n",
              "            ).addTo(map_1953ac5fcda04e60ff8dfa31f3c3398a);\n",
              "        \n",
              "    \n",
              "            var poly_line_2630641024ba164c1b645c25f011fd63 = L.polyline(\n",
              "                [[13.8879111, 100.2962932], [13.8884312, 100.2961831], [13.8888955, 100.2960918], [13.8895512, 100.2960038], [13.8897134, 100.2959919], [13.8898797, 100.2960044], [13.8902082, 100.2960348], [13.8903712, 100.2960188], [13.8905307, 100.295992], [13.8910332, 100.2958405], [13.8918814, 100.2956005], [13.8919534, 100.2955818], [13.8920122, 100.2955665], [13.8925655, 100.2954224], [13.8936549, 100.2951192], [13.8944522, 100.2949427], [13.8946345, 100.2948781], [13.8947537, 100.2948175], [13.8947873, 100.2947892], [13.8948946, 100.2946989], [13.8950578, 100.2945428], [13.8951898, 100.2944556], [13.8952166, 100.2944443], [13.8958363, 100.2941963], [13.8964191, 100.2939513], [13.8969223, 100.2937299], [13.8979028, 100.293316], [13.8986012, 100.2930352], [13.8991658, 100.2928162], [13.8992824, 100.2927672], [13.8995405, 100.2926589], [13.8995908, 100.2926187], [13.899619, 100.2925604]],\n",
              "                {&quot;bubblingMouseEvents&quot;: true, &quot;color&quot;: &quot;#3388ff&quot;, &quot;dashArray&quot;: null, &quot;dashOffset&quot;: null, &quot;fill&quot;: false, &quot;fillColor&quot;: &quot;#3388ff&quot;, &quot;fillOpacity&quot;: 0.2, &quot;fillRule&quot;: &quot;evenodd&quot;, &quot;lineCap&quot;: &quot;round&quot;, &quot;lineJoin&quot;: &quot;round&quot;, &quot;noClip&quot;: false, &quot;opacity&quot;: 1.0, &quot;smoothFactor&quot;: 1.0, &quot;stroke&quot;: true, &quot;weight&quot;: 3}\n",
              "            ).addTo(map_1953ac5fcda04e60ff8dfa31f3c3398a);\n",
              "        \n",
              "    \n",
              "            var poly_line_af87c39e6e37d0448b0bb0ece837ed64 = L.polyline(\n",
              "                [[13.899619, 100.2925604], [13.8996207, 100.2924953], [13.8995916, 100.2923879], [13.8991799, 100.2914971], [13.8988254, 100.2908114], [13.89882, 100.2907576], [13.8988349, 100.2907101], [13.898869, 100.2906786], [13.8989762, 100.2906436], [13.899017, 100.2906316]],\n",
              "                {&quot;bubblingMouseEvents&quot;: true, &quot;color&quot;: &quot;#3388ff&quot;, &quot;dashArray&quot;: null, &quot;dashOffset&quot;: null, &quot;fill&quot;: false, &quot;fillColor&quot;: &quot;#3388ff&quot;, &quot;fillOpacity&quot;: 0.2, &quot;fillRule&quot;: &quot;evenodd&quot;, &quot;lineCap&quot;: &quot;round&quot;, &quot;lineJoin&quot;: &quot;round&quot;, &quot;noClip&quot;: false, &quot;opacity&quot;: 1.0, &quot;smoothFactor&quot;: 1.0, &quot;stroke&quot;: true, &quot;weight&quot;: 3}\n",
              "            ).addTo(map_1953ac5fcda04e60ff8dfa31f3c3398a);\n",
              "        \n",
              "    \n",
              "            var poly_line_9387bf622b2f4f09c2b06ecd011e56ed = L.polyline(\n",
              "                [[13.899017, 100.2906316], [13.9000009, 100.2903934], [13.9004336, 100.2903096], [13.900528, 100.2902828], [13.9006783, 100.2902386], [13.9010539, 100.2901252], [13.9012086, 100.290078], [13.9013241, 100.2900368], [13.9017953, 100.2898852]],\n",
              "                {&quot;bubblingMouseEvents&quot;: true, &quot;color&quot;: &quot;#3388ff&quot;, &quot;dashArray&quot;: null, &quot;dashOffset&quot;: null, &quot;fill&quot;: false, &quot;fillColor&quot;: &quot;#3388ff&quot;, &quot;fillOpacity&quot;: 0.2, &quot;fillRule&quot;: &quot;evenodd&quot;, &quot;lineCap&quot;: &quot;round&quot;, &quot;lineJoin&quot;: &quot;round&quot;, &quot;noClip&quot;: false, &quot;opacity&quot;: 1.0, &quot;smoothFactor&quot;: 1.0, &quot;stroke&quot;: true, &quot;weight&quot;: 3}\n",
              "            ).addTo(map_1953ac5fcda04e60ff8dfa31f3c3398a);\n",
              "        \n",
              "    \n",
              "            var poly_line_861243258f14b5e30735c66b34dffb57 = L.polyline(\n",
              "                [[13.9017953, 100.2898852], [13.9024345, 100.2896599], [13.9026734, 100.2895673], [13.9028172, 100.2895016], [13.9029487, 100.2894346], [13.9031266, 100.2893414], [13.9031758, 100.289317], [13.903217, 100.2893003], [13.9033296, 100.2892719], [13.903519, 100.2892369], [13.9035863, 100.2892185]],\n",
              "                {&quot;bubblingMouseEvents&quot;: true, &quot;color&quot;: &quot;#3388ff&quot;, &quot;dashArray&quot;: null, &quot;dashOffset&quot;: null, &quot;fill&quot;: false, &quot;fillColor&quot;: &quot;#3388ff&quot;, &quot;fillOpacity&quot;: 0.2, &quot;fillRule&quot;: &quot;evenodd&quot;, &quot;lineCap&quot;: &quot;round&quot;, &quot;lineJoin&quot;: &quot;round&quot;, &quot;noClip&quot;: false, &quot;opacity&quot;: 1.0, &quot;smoothFactor&quot;: 1.0, &quot;stroke&quot;: true, &quot;weight&quot;: 3}\n",
              "            ).addTo(map_1953ac5fcda04e60ff8dfa31f3c3398a);\n",
              "        \n",
              "    \n",
              "            var poly_line_858c50c00c6f84f96e4b45bf2f387f9c = L.polyline(\n",
              "                [[13.9035863, 100.2892185], [13.9036221, 100.2892087], [13.9050982, 100.2888043], [13.9057572, 100.2886083], [13.9057945, 100.2885773], [13.9058174, 100.2885294], [13.9058281, 100.2884675], [13.9058355, 100.2881447], [13.9058604, 100.2880787], [13.9059002, 100.2880289], [13.9059669, 100.2879861], [13.906036, 100.2879655], [13.90662, 100.2878912], [13.9069631, 100.2878369]],\n",
              "                {&quot;bubblingMouseEvents&quot;: true, &quot;color&quot;: &quot;#3388ff&quot;, &quot;dashArray&quot;: null, &quot;dashOffset&quot;: null, &quot;fill&quot;: false, &quot;fillColor&quot;: &quot;#3388ff&quot;, &quot;fillOpacity&quot;: 0.2, &quot;fillRule&quot;: &quot;evenodd&quot;, &quot;lineCap&quot;: &quot;round&quot;, &quot;lineJoin&quot;: &quot;round&quot;, &quot;noClip&quot;: false, &quot;opacity&quot;: 1.0, &quot;smoothFactor&quot;: 1.0, &quot;stroke&quot;: true, &quot;weight&quot;: 3}\n",
              "            ).addTo(map_1953ac5fcda04e60ff8dfa31f3c3398a);\n",
              "        \n",
              "    \n",
              "            var poly_line_0c2b4d332e01670a61248bd888541824 = L.polyline(\n",
              "                [[13.9069631, 100.2878369], [13.9071266, 100.287811], [13.9072013, 100.287778], [13.9072846, 100.2877194], [13.9073305, 100.2876595], [13.9074192, 100.2874832]],\n",
              "                {&quot;bubblingMouseEvents&quot;: true, &quot;color&quot;: &quot;#3388ff&quot;, &quot;dashArray&quot;: null, &quot;dashOffset&quot;: null, &quot;fill&quot;: false, &quot;fillColor&quot;: &quot;#3388ff&quot;, &quot;fillOpacity&quot;: 0.2, &quot;fillRule&quot;: &quot;evenodd&quot;, &quot;lineCap&quot;: &quot;round&quot;, &quot;lineJoin&quot;: &quot;round&quot;, &quot;noClip&quot;: false, &quot;opacity&quot;: 1.0, &quot;smoothFactor&quot;: 1.0, &quot;stroke&quot;: true, &quot;weight&quot;: 3}\n",
              "            ).addTo(map_1953ac5fcda04e60ff8dfa31f3c3398a);\n",
              "        \n",
              "    \n",
              "            var poly_line_a09e9b67417459f5341bc2005d3ce9f8 = L.polyline(\n",
              "                [[13.9074192, 100.2874832], [13.907462, 100.2874233], [13.9075284, 100.2873817], [13.9076469, 100.2873542], [13.9098418, 100.2869123], [13.9099674, 100.2869017], [13.9100406, 100.2869162]],\n",
              "                {&quot;bubblingMouseEvents&quot;: true, &quot;color&quot;: &quot;#3388ff&quot;, &quot;dashArray&quot;: null, &quot;dashOffset&quot;: null, &quot;fill&quot;: false, &quot;fillColor&quot;: &quot;#3388ff&quot;, &quot;fillOpacity&quot;: 0.2, &quot;fillRule&quot;: &quot;evenodd&quot;, &quot;lineCap&quot;: &quot;round&quot;, &quot;lineJoin&quot;: &quot;round&quot;, &quot;noClip&quot;: false, &quot;opacity&quot;: 1.0, &quot;smoothFactor&quot;: 1.0, &quot;stroke&quot;: true, &quot;weight&quot;: 3}\n",
              "            ).addTo(map_1953ac5fcda04e60ff8dfa31f3c3398a);\n",
              "        \n",
              "    \n",
              "            var poly_line_6b766aeca82112abd880ac8d46336296 = L.polyline(\n",
              "                [[13.9100406, 100.2869162], [13.9101344, 100.286862], [13.910357, 100.2867566], [13.9103875, 100.286744], [13.9105043, 100.2866994], [13.9106203, 100.2866626], [13.9118072, 100.2864546], [13.9118694, 100.286427], [13.9119228, 100.2863675], [13.9119452, 100.2863034], [13.9119361, 100.2862299], [13.9118955, 100.2861314], [13.911346, 100.285033], [13.9107062, 100.2838055], [13.9101013, 100.282645], [13.9100617, 100.2825698], [13.9097217, 100.2819162]],\n",
              "                {&quot;bubblingMouseEvents&quot;: true, &quot;color&quot;: &quot;#3388ff&quot;, &quot;dashArray&quot;: null, &quot;dashOffset&quot;: null, &quot;fill&quot;: false, &quot;fillColor&quot;: &quot;#3388ff&quot;, &quot;fillOpacity&quot;: 0.2, &quot;fillRule&quot;: &quot;evenodd&quot;, &quot;lineCap&quot;: &quot;round&quot;, &quot;lineJoin&quot;: &quot;round&quot;, &quot;noClip&quot;: false, &quot;opacity&quot;: 1.0, &quot;smoothFactor&quot;: 1.0, &quot;stroke&quot;: true, &quot;weight&quot;: 3}\n",
              "            ).addTo(map_1953ac5fcda04e60ff8dfa31f3c3398a);\n",
              "        \n",
              "    \n",
              "            var poly_line_967f1953360bed9268bb7ad1abcf970f = L.polyline(\n",
              "                [[13.9097217, 100.2819162], [13.9097994, 100.281873], [13.9098762, 100.2818322], [13.9099378, 100.2818025]],\n",
              "                {&quot;bubblingMouseEvents&quot;: true, &quot;color&quot;: &quot;#3388ff&quot;, &quot;dashArray&quot;: null, &quot;dashOffset&quot;: null, &quot;fill&quot;: false, &quot;fillColor&quot;: &quot;#3388ff&quot;, &quot;fillOpacity&quot;: 0.2, &quot;fillRule&quot;: &quot;evenodd&quot;, &quot;lineCap&quot;: &quot;round&quot;, &quot;lineJoin&quot;: &quot;round&quot;, &quot;noClip&quot;: false, &quot;opacity&quot;: 1.0, &quot;smoothFactor&quot;: 1.0, &quot;stroke&quot;: true, &quot;weight&quot;: 3}\n",
              "            ).addTo(map_1953ac5fcda04e60ff8dfa31f3c3398a);\n",
              "        \n",
              "    \n",
              "            var poly_line_aec487b626334daae92aff7eeaa50daf = L.polyline(\n",
              "                [[13.9099378, 100.2818025], [13.9099784, 100.2818842], [13.910076, 100.2820578], [13.91016, 100.2820082], [13.9102404, 100.2819647], [13.910311, 100.2819264], [13.9108448, 100.2816286], [13.9109702, 100.2815551], [13.9109986, 100.2815392], [13.9114957, 100.28126]],\n",
              "                {&quot;bubblingMouseEvents&quot;: true, &quot;color&quot;: &quot;#3388ff&quot;, &quot;dashArray&quot;: null, &quot;dashOffset&quot;: null, &quot;fill&quot;: false, &quot;fillColor&quot;: &quot;#3388ff&quot;, &quot;fillOpacity&quot;: 0.2, &quot;fillRule&quot;: &quot;evenodd&quot;, &quot;lineCap&quot;: &quot;round&quot;, &quot;lineJoin&quot;: &quot;round&quot;, &quot;noClip&quot;: false, &quot;opacity&quot;: 1.0, &quot;smoothFactor&quot;: 1.0, &quot;stroke&quot;: true, &quot;weight&quot;: 3}\n",
              "            ).addTo(map_1953ac5fcda04e60ff8dfa31f3c3398a);\n",
              "        \n",
              "    \n",
              "            var poly_line_79ebe051c41734b9b2c115f6e1a70764 = L.polyline(\n",
              "                [[13.9114957, 100.28126], [13.910513, 100.2794168], [13.9104972, 100.2793609], [13.9105011, 100.2793045], [13.9105193, 100.279267], [13.9105571, 100.2792308], [13.9106584, 100.2791722]],\n",
              "                {&quot;bubblingMouseEvents&quot;: true, &quot;color&quot;: &quot;#3388ff&quot;, &quot;dashArray&quot;: null, &quot;dashOffset&quot;: null, &quot;fill&quot;: false, &quot;fillColor&quot;: &quot;#3388ff&quot;, &quot;fillOpacity&quot;: 0.2, &quot;fillRule&quot;: &quot;evenodd&quot;, &quot;lineCap&quot;: &quot;round&quot;, &quot;lineJoin&quot;: &quot;round&quot;, &quot;noClip&quot;: false, &quot;opacity&quot;: 1.0, &quot;smoothFactor&quot;: 1.0, &quot;stroke&quot;: true, &quot;weight&quot;: 3}\n",
              "            ).addTo(map_1953ac5fcda04e60ff8dfa31f3c3398a);\n",
              "        \n",
              "    \n",
              "            var poly_line_fcc1870b2762f96b775ba30ad59c0524 = L.polyline(\n",
              "                [[13.9106584, 100.2791722], [13.9109723, 100.2789907], [13.9114827, 100.2787232], [13.911894, 100.278516]],\n",
              "                {&quot;bubblingMouseEvents&quot;: true, &quot;color&quot;: &quot;#3388ff&quot;, &quot;dashArray&quot;: null, &quot;dashOffset&quot;: null, &quot;fill&quot;: false, &quot;fillColor&quot;: &quot;#3388ff&quot;, &quot;fillOpacity&quot;: 0.2, &quot;fillRule&quot;: &quot;evenodd&quot;, &quot;lineCap&quot;: &quot;round&quot;, &quot;lineJoin&quot;: &quot;round&quot;, &quot;noClip&quot;: false, &quot;opacity&quot;: 1.0, &quot;smoothFactor&quot;: 1.0, &quot;stroke&quot;: true, &quot;weight&quot;: 3}\n",
              "            ).addTo(map_1953ac5fcda04e60ff8dfa31f3c3398a);\n",
              "        \n",
              "    \n",
              "            var poly_line_0645cec43f8743527abc3eb4c7828c0e = L.polyline(\n",
              "                [[13.911894, 100.278516], [13.9122272, 100.2783531]],\n",
              "                {&quot;bubblingMouseEvents&quot;: true, &quot;color&quot;: &quot;#3388ff&quot;, &quot;dashArray&quot;: null, &quot;dashOffset&quot;: null, &quot;fill&quot;: false, &quot;fillColor&quot;: &quot;#3388ff&quot;, &quot;fillOpacity&quot;: 0.2, &quot;fillRule&quot;: &quot;evenodd&quot;, &quot;lineCap&quot;: &quot;round&quot;, &quot;lineJoin&quot;: &quot;round&quot;, &quot;noClip&quot;: false, &quot;opacity&quot;: 1.0, &quot;smoothFactor&quot;: 1.0, &quot;stroke&quot;: true, &quot;weight&quot;: 3}\n",
              "            ).addTo(map_1953ac5fcda04e60ff8dfa31f3c3398a);\n",
              "        \n",
              "    \n",
              "            var poly_line_38b5ab0b102f096440dc59e1d01aadc2 = L.polyline(\n",
              "                [[13.9122272, 100.2783531], [13.9128085, 100.278056], [13.9130578, 100.2779286], [13.9137097, 100.2775995], [13.9139482, 100.2774844], [13.9141348, 100.2773958]],\n",
              "                {&quot;bubblingMouseEvents&quot;: true, &quot;color&quot;: &quot;#3388ff&quot;, &quot;dashArray&quot;: null, &quot;dashOffset&quot;: null, &quot;fill&quot;: false, &quot;fillColor&quot;: &quot;#3388ff&quot;, &quot;fillOpacity&quot;: 0.2, &quot;fillRule&quot;: &quot;evenodd&quot;, &quot;lineCap&quot;: &quot;round&quot;, &quot;lineJoin&quot;: &quot;round&quot;, &quot;noClip&quot;: false, &quot;opacity&quot;: 1.0, &quot;smoothFactor&quot;: 1.0, &quot;stroke&quot;: true, &quot;weight&quot;: 3}\n",
              "            ).addTo(map_1953ac5fcda04e60ff8dfa31f3c3398a);\n",
              "        \n",
              "    \n",
              "            var poly_line_701367132e50fbec1061e812fcdd00ac = L.polyline(\n",
              "                [[13.9141348, 100.2773958], [13.9143374, 100.2773425], [13.9145853, 100.2772837], [13.9148086, 100.27725], [13.9148815, 100.2772339], [13.9150013, 100.2771842], [13.9150664, 100.2771453], [13.9157184, 100.2766357], [13.9162843, 100.2761787], [13.9166087, 100.2759342], [13.9169015, 100.2757104], [13.9169851, 100.2756451]],\n",
              "                {&quot;bubblingMouseEvents&quot;: true, &quot;color&quot;: &quot;#3388ff&quot;, &quot;dashArray&quot;: null, &quot;dashOffset&quot;: null, &quot;fill&quot;: false, &quot;fillColor&quot;: &quot;#3388ff&quot;, &quot;fillOpacity&quot;: 0.2, &quot;fillRule&quot;: &quot;evenodd&quot;, &quot;lineCap&quot;: &quot;round&quot;, &quot;lineJoin&quot;: &quot;round&quot;, &quot;noClip&quot;: false, &quot;opacity&quot;: 1.0, &quot;smoothFactor&quot;: 1.0, &quot;stroke&quot;: true, &quot;weight&quot;: 3}\n",
              "            ).addTo(map_1953ac5fcda04e60ff8dfa31f3c3398a);\n",
              "        \n",
              "    \n",
              "            var poly_line_b79e87701b9f645656c337cd014c9b1e = L.polyline(\n",
              "                [[13.9169851, 100.2756451], [13.9171569, 100.2754814], [13.9174432, 100.2751537], [13.9176899, 100.2748684], [13.9179218, 100.2745612], [13.9179562, 100.274502], [13.9179758, 100.2744486]],\n",
              "                {&quot;bubblingMouseEvents&quot;: true, &quot;color&quot;: &quot;#3388ff&quot;, &quot;dashArray&quot;: null, &quot;dashOffset&quot;: null, &quot;fill&quot;: false, &quot;fillColor&quot;: &quot;#3388ff&quot;, &quot;fillOpacity&quot;: 0.2, &quot;fillRule&quot;: &quot;evenodd&quot;, &quot;lineCap&quot;: &quot;round&quot;, &quot;lineJoin&quot;: &quot;round&quot;, &quot;noClip&quot;: false, &quot;opacity&quot;: 1.0, &quot;smoothFactor&quot;: 1.0, &quot;stroke&quot;: true, &quot;weight&quot;: 3}\n",
              "            ).addTo(map_1953ac5fcda04e60ff8dfa31f3c3398a);\n",
              "        \n",
              "    \n",
              "            var poly_line_8be92156f8c5444bc6efb032cb6680a9 = L.polyline(\n",
              "                [[13.9179758, 100.2744486], [13.9179836, 100.2743787], [13.917981, 100.274325], [13.9179575, 100.2742633], [13.9177972, 100.2740345], [13.9174462, 100.2735338], [13.9173769, 100.2734211], [13.9173561, 100.273346], [13.9173639, 100.2732749], [13.9174134, 100.273165], [13.9176008, 100.2729008], [13.9179359, 100.2724556], [13.9183761, 100.2718708], [13.9185762, 100.271605], [13.9187804, 100.2713337], [13.9191488, 100.2708443]],\n",
              "                {&quot;bubblingMouseEvents&quot;: true, &quot;color&quot;: &quot;#3388ff&quot;, &quot;dashArray&quot;: null, &quot;dashOffset&quot;: null, &quot;fill&quot;: false, &quot;fillColor&quot;: &quot;#3388ff&quot;, &quot;fillOpacity&quot;: 0.2, &quot;fillRule&quot;: &quot;evenodd&quot;, &quot;lineCap&quot;: &quot;round&quot;, &quot;lineJoin&quot;: &quot;round&quot;, &quot;noClip&quot;: false, &quot;opacity&quot;: 1.0, &quot;smoothFactor&quot;: 1.0, &quot;stroke&quot;: true, &quot;weight&quot;: 3}\n",
              "            ).addTo(map_1953ac5fcda04e60ff8dfa31f3c3398a);\n",
              "        \n",
              "    \n",
              "            var poly_line_7bc060b129d673278fab5c692ab8111e = L.polyline(\n",
              "                [[13.9191488, 100.2708443], [13.9194721, 100.2704148], [13.9195222, 100.2703479]],\n",
              "                {&quot;bubblingMouseEvents&quot;: true, &quot;color&quot;: &quot;#3388ff&quot;, &quot;dashArray&quot;: null, &quot;dashOffset&quot;: null, &quot;fill&quot;: false, &quot;fillColor&quot;: &quot;#3388ff&quot;, &quot;fillOpacity&quot;: 0.2, &quot;fillRule&quot;: &quot;evenodd&quot;, &quot;lineCap&quot;: &quot;round&quot;, &quot;lineJoin&quot;: &quot;round&quot;, &quot;noClip&quot;: false, &quot;opacity&quot;: 1.0, &quot;smoothFactor&quot;: 1.0, &quot;stroke&quot;: true, &quot;weight&quot;: 3}\n",
              "            ).addTo(map_1953ac5fcda04e60ff8dfa31f3c3398a);\n",
              "        \n",
              "    \n",
              "            var poly_line_a13358a912727b6e12ce1cb9324ccf8b = L.polyline(\n",
              "                [[13.9195222, 100.2703479], [13.9197211, 100.2700824]],\n",
              "                {&quot;bubblingMouseEvents&quot;: true, &quot;color&quot;: &quot;#3388ff&quot;, &quot;dashArray&quot;: null, &quot;dashOffset&quot;: null, &quot;fill&quot;: false, &quot;fillColor&quot;: &quot;#3388ff&quot;, &quot;fillOpacity&quot;: 0.2, &quot;fillRule&quot;: &quot;evenodd&quot;, &quot;lineCap&quot;: &quot;round&quot;, &quot;lineJoin&quot;: &quot;round&quot;, &quot;noClip&quot;: false, &quot;opacity&quot;: 1.0, &quot;smoothFactor&quot;: 1.0, &quot;stroke&quot;: true, &quot;weight&quot;: 3}\n",
              "            ).addTo(map_1953ac5fcda04e60ff8dfa31f3c3398a);\n",
              "        \n",
              "    \n",
              "            var poly_line_82882c1595d45618f0faba1ad3bd642a = L.polyline(\n",
              "                [[13.9197211, 100.2700824], [13.9200191, 100.2696844], [13.9202658, 100.2693262]],\n",
              "                {&quot;bubblingMouseEvents&quot;: true, &quot;color&quot;: &quot;#3388ff&quot;, &quot;dashArray&quot;: null, &quot;dashOffset&quot;: null, &quot;fill&quot;: false, &quot;fillColor&quot;: &quot;#3388ff&quot;, &quot;fillOpacity&quot;: 0.2, &quot;fillRule&quot;: &quot;evenodd&quot;, &quot;lineCap&quot;: &quot;round&quot;, &quot;lineJoin&quot;: &quot;round&quot;, &quot;noClip&quot;: false, &quot;opacity&quot;: 1.0, &quot;smoothFactor&quot;: 1.0, &quot;stroke&quot;: true, &quot;weight&quot;: 3}\n",
              "            ).addTo(map_1953ac5fcda04e60ff8dfa31f3c3398a);\n",
              "        \n",
              "    \n",
              "            var poly_line_18ee186c9d475d00c5dc0eec30cd7560 = L.polyline(\n",
              "                [[13.9202658, 100.2693262], [13.9203617, 100.2691974], [13.9206744, 100.268667], [13.9209482, 100.2682025], [13.9212396, 100.2677247], [13.9213575, 100.2675888]],\n",
              "                {&quot;bubblingMouseEvents&quot;: true, &quot;color&quot;: &quot;#3388ff&quot;, &quot;dashArray&quot;: null, &quot;dashOffset&quot;: null, &quot;fill&quot;: false, &quot;fillColor&quot;: &quot;#3388ff&quot;, &quot;fillOpacity&quot;: 0.2, &quot;fillRule&quot;: &quot;evenodd&quot;, &quot;lineCap&quot;: &quot;round&quot;, &quot;lineJoin&quot;: &quot;round&quot;, &quot;noClip&quot;: false, &quot;opacity&quot;: 1.0, &quot;smoothFactor&quot;: 1.0, &quot;stroke&quot;: true, &quot;weight&quot;: 3}\n",
              "            ).addTo(map_1953ac5fcda04e60ff8dfa31f3c3398a);\n",
              "        \n",
              "    \n",
              "            var poly_line_f363e61412be922fab66c2dfe3da8519 = L.polyline(\n",
              "                [[13.9213575, 100.2675888], [13.9212743, 100.2675043], [13.9206138, 100.2670759], [13.9202714, 100.2668965]],\n",
              "                {&quot;bubblingMouseEvents&quot;: true, &quot;color&quot;: &quot;#3388ff&quot;, &quot;dashArray&quot;: null, &quot;dashOffset&quot;: null, &quot;fill&quot;: false, &quot;fillColor&quot;: &quot;#3388ff&quot;, &quot;fillOpacity&quot;: 0.2, &quot;fillRule&quot;: &quot;evenodd&quot;, &quot;lineCap&quot;: &quot;round&quot;, &quot;lineJoin&quot;: &quot;round&quot;, &quot;noClip&quot;: false, &quot;opacity&quot;: 1.0, &quot;smoothFactor&quot;: 1.0, &quot;stroke&quot;: true, &quot;weight&quot;: 3}\n",
              "            ).addTo(map_1953ac5fcda04e60ff8dfa31f3c3398a);\n",
              "        \n",
              "    \n",
              "            map_1953ac5fcda04e60ff8dfa31f3c3398a.fitBounds(\n",
              "                [[13.8762307, 100.2668965], [13.9213575, 100.3831311]],\n",
              "                {}\n",
              "            );\n",
              "        \n",
              "    \n",
              "            var marker_761abce78d5a22c4966cb6819b7e5b1e = L.marker(\n",
              "                [13.876163, 100.382802],\n",
              "                {\n",
              "}\n",
              "            ).addTo(map_1953ac5fcda04e60ff8dfa31f3c3398a);\n",
              "        \n",
              "    \n",
              "            var icon_bd4fab8c56e7fb0f7859196b3433622b = L.AwesomeMarkers.icon(\n",
              "                {\n",
              "  &quot;markerColor&quot;: &quot;green&quot;,\n",
              "  &quot;iconColor&quot;: &quot;white&quot;,\n",
              "  &quot;icon&quot;: &quot;play&quot;,\n",
              "  &quot;prefix&quot;: &quot;glyphicon&quot;,\n",
              "  &quot;extraClasses&quot;: &quot;fa-rotate-0&quot;,\n",
              "}\n",
              "            );\n",
              "        \n",
              "    \n",
              "        var popup_378dcd72ad198897d91ae9edbd1f9120 = L.popup({\n",
              "  &quot;maxWidth&quot;: &quot;100%&quot;,\n",
              "});\n",
              "\n",
              "        \n",
              "            \n",
              "                var html_f6202719f3dba32855f6ed062b690855 = $(`&lt;div id=&quot;html_f6202719f3dba32855f6ed062b690855&quot; style=&quot;width: 100.0%; height: 100.0%;&quot;&gt;&lt;b&gt;Start:&lt;/b&gt; PERAPAT HOUSE&lt;/div&gt;`)[0];\n",
              "                popup_378dcd72ad198897d91ae9edbd1f9120.setContent(html_f6202719f3dba32855f6ed062b690855);\n",
              "            \n",
              "        \n",
              "\n",
              "        marker_761abce78d5a22c4966cb6819b7e5b1e.bindPopup(popup_378dcd72ad198897d91ae9edbd1f9120)\n",
              "        ;\n",
              "\n",
              "        \n",
              "    \n",
              "    \n",
              "                marker_761abce78d5a22c4966cb6819b7e5b1e.setIcon(icon_bd4fab8c56e7fb0f7859196b3433622b);\n",
              "            \n",
              "    \n",
              "            var marker_c26a5445c8ad5eaa07995d95b525914d = L.marker(\n",
              "                [13.820036, 100.04007],\n",
              "                {\n",
              "}\n",
              "            ).addTo(map_1953ac5fcda04e60ff8dfa31f3c3398a);\n",
              "        \n",
              "    \n",
              "            var icon_005618532c089d3b48744c4398d10fa0 = L.AwesomeMarkers.icon(\n",
              "                {\n",
              "  &quot;markerColor&quot;: &quot;red&quot;,\n",
              "  &quot;iconColor&quot;: &quot;white&quot;,\n",
              "  &quot;icon&quot;: &quot;stop&quot;,\n",
              "  &quot;prefix&quot;: &quot;glyphicon&quot;,\n",
              "  &quot;extraClasses&quot;: &quot;fa-rotate-0&quot;,\n",
              "}\n",
              "            );\n",
              "        \n",
              "    \n",
              "        var popup_5b4814d2007b82d7a1e1449108272b28 = L.popup({\n",
              "  &quot;maxWidth&quot;: &quot;100%&quot;,\n",
              "});\n",
              "\n",
              "        \n",
              "            \n",
              "                var html_47e82189d4b30a94a3492e9c6773c8d8 = $(`&lt;div id=&quot;html_47e82189d4b30a94a3492e9c6773c8d8&quot; style=&quot;width: 100.0%; height: 100.0%;&quot;&gt;&lt;b&gt;End:&lt;/b&gt; Silpakorn&lt;/div&gt;`)[0];\n",
              "                popup_5b4814d2007b82d7a1e1449108272b28.setContent(html_47e82189d4b30a94a3492e9c6773c8d8);\n",
              "            \n",
              "        \n",
              "\n",
              "        marker_c26a5445c8ad5eaa07995d95b525914d.bindPopup(popup_5b4814d2007b82d7a1e1449108272b28)\n",
              "        ;\n",
              "\n",
              "        \n",
              "    \n",
              "    \n",
              "                marker_c26a5445c8ad5eaa07995d95b525914d.setIcon(icon_005618532c089d3b48744c4398d10fa0);\n",
              "            \n",
              "&lt;/script&gt;\n",
              "&lt;/html&gt;\" style=\"position:absolute;width:100%;height:100%;left:0;top:0;border:none !important;\" allowfullscreen webkitallowfullscreen mozallowfullscreen></iframe></div></div>"
            ]
          },
          "metadata": {}
        }
      ]
    },
    {
      "cell_type": "code",
      "source": [
        "# ขั้นตอนที่ 8 วิเคราะห์เส้นทาง"
      ],
      "metadata": {
        "id": "588CshQpLJWv"
      },
      "execution_count": 70,
      "outputs": []
    },
    {
      "cell_type": "code",
      "source": [
        "route_edges = ox.utils_graph.route_to_gdf(G, shortest_route, weight='length')\n",
        "\n",
        "print(\"📊 Route Analysis:\")\n",
        "print(f\"Total segments: {len(route_edges)}\")\n",
        "print(f\"\\n🛣️ Street names used:\")\n",
        "\n",
        "# รวบรวมชื่อถนนที่ใช้ (ไม่ซ้ำ)\n",
        "street_names = route_edges['name'].dropna().unique()\n",
        "for i, street in enumerate(street_names, 1):\n",
        "    print(f\"   {i}. {street}\")\n",
        "\n",
        "# แสดงประเภทถนนที่ใช้\n",
        "print(f\"\\n🚗 Road types used:\")\n",
        "road_types = route_edges['highway'].value_counts()\n",
        "for road_type, count in road_types.items():\n",
        "    print(f\"   - {road_type}: {count} segments\")"
      ],
      "metadata": {
        "id": "cX_MpxKXLS2A",
        "colab": {
          "base_uri": "https://localhost:8080/",
          "height": 617
        },
        "outputId": "8972746b-7591-41c4-f4d1-5a9a6325c899"
      },
      "execution_count": 80,
      "outputs": [
        {
          "output_type": "stream",
          "name": "stdout",
          "text": [
            "📊 Route Analysis:\n",
            "Total segments: 95\n",
            "\n",
            "🛣️ Street names used:\n"
          ]
        },
        {
          "output_type": "error",
          "ename": "KeyError",
          "evalue": "'name'",
          "traceback": [
            "\u001b[0;31m---------------------------------------------------------------------------\u001b[0m",
            "\u001b[0;31mKeyError\u001b[0m                                  Traceback (most recent call last)",
            "\u001b[0;32m/usr/local/lib/python3.11/dist-packages/pandas/core/indexes/base.py\u001b[0m in \u001b[0;36mget_loc\u001b[0;34m(self, key)\u001b[0m\n\u001b[1;32m   3804\u001b[0m         \u001b[0;32mtry\u001b[0m\u001b[0;34m:\u001b[0m\u001b[0;34m\u001b[0m\u001b[0;34m\u001b[0m\u001b[0m\n\u001b[0;32m-> 3805\u001b[0;31m             \u001b[0;32mreturn\u001b[0m \u001b[0mself\u001b[0m\u001b[0;34m.\u001b[0m\u001b[0m_engine\u001b[0m\u001b[0;34m.\u001b[0m\u001b[0mget_loc\u001b[0m\u001b[0;34m(\u001b[0m\u001b[0mcasted_key\u001b[0m\u001b[0;34m)\u001b[0m\u001b[0;34m\u001b[0m\u001b[0;34m\u001b[0m\u001b[0m\n\u001b[0m\u001b[1;32m   3806\u001b[0m         \u001b[0;32mexcept\u001b[0m \u001b[0mKeyError\u001b[0m \u001b[0;32mas\u001b[0m \u001b[0merr\u001b[0m\u001b[0;34m:\u001b[0m\u001b[0;34m\u001b[0m\u001b[0;34m\u001b[0m\u001b[0m\n",
            "\u001b[0;32mindex.pyx\u001b[0m in \u001b[0;36mpandas._libs.index.IndexEngine.get_loc\u001b[0;34m()\u001b[0m\n",
            "\u001b[0;32mindex.pyx\u001b[0m in \u001b[0;36mpandas._libs.index.IndexEngine.get_loc\u001b[0;34m()\u001b[0m\n",
            "\u001b[0;32mpandas/_libs/hashtable_class_helper.pxi\u001b[0m in \u001b[0;36mpandas._libs.hashtable.PyObjectHashTable.get_item\u001b[0;34m()\u001b[0m\n",
            "\u001b[0;32mpandas/_libs/hashtable_class_helper.pxi\u001b[0m in \u001b[0;36mpandas._libs.hashtable.PyObjectHashTable.get_item\u001b[0;34m()\u001b[0m\n",
            "\u001b[0;31mKeyError\u001b[0m: 'name'",
            "\nThe above exception was the direct cause of the following exception:\n",
            "\u001b[0;31mKeyError\u001b[0m                                  Traceback (most recent call last)",
            "\u001b[0;32m/tmp/ipython-input-80-1696802530.py\u001b[0m in \u001b[0;36m<cell line: 0>\u001b[0;34m()\u001b[0m\n\u001b[1;32m      6\u001b[0m \u001b[0;34m\u001b[0m\u001b[0m\n\u001b[1;32m      7\u001b[0m \u001b[0;31m# รวบรวมชื่อถนนที่ใช้ (ไม่ซ้ำ)\u001b[0m\u001b[0;34m\u001b[0m\u001b[0;34m\u001b[0m\u001b[0m\n\u001b[0;32m----> 8\u001b[0;31m \u001b[0mstreet_names\u001b[0m \u001b[0;34m=\u001b[0m \u001b[0mroute_edges\u001b[0m\u001b[0;34m[\u001b[0m\u001b[0;34m'name'\u001b[0m\u001b[0;34m]\u001b[0m\u001b[0;34m.\u001b[0m\u001b[0mdropna\u001b[0m\u001b[0;34m(\u001b[0m\u001b[0;34m)\u001b[0m\u001b[0;34m.\u001b[0m\u001b[0munique\u001b[0m\u001b[0;34m(\u001b[0m\u001b[0;34m)\u001b[0m\u001b[0;34m\u001b[0m\u001b[0;34m\u001b[0m\u001b[0m\n\u001b[0m\u001b[1;32m      9\u001b[0m \u001b[0;32mfor\u001b[0m \u001b[0mi\u001b[0m\u001b[0;34m,\u001b[0m \u001b[0mstreet\u001b[0m \u001b[0;32min\u001b[0m \u001b[0menumerate\u001b[0m\u001b[0;34m(\u001b[0m\u001b[0mstreet_names\u001b[0m\u001b[0;34m,\u001b[0m \u001b[0;36m1\u001b[0m\u001b[0;34m)\u001b[0m\u001b[0;34m:\u001b[0m\u001b[0;34m\u001b[0m\u001b[0;34m\u001b[0m\u001b[0m\n\u001b[1;32m     10\u001b[0m     \u001b[0mprint\u001b[0m\u001b[0;34m(\u001b[0m\u001b[0;34mf\"   {i}. {street}\"\u001b[0m\u001b[0;34m)\u001b[0m\u001b[0;34m\u001b[0m\u001b[0;34m\u001b[0m\u001b[0m\n",
            "\u001b[0;32m/usr/local/lib/python3.11/dist-packages/geopandas/geodataframe.py\u001b[0m in \u001b[0;36m__getitem__\u001b[0;34m(self, key)\u001b[0m\n\u001b[1;32m   1894\u001b[0m         \u001b[0;32mreturn\u001b[0m \u001b[0ma\u001b[0m \u001b[0mGeoDataFrame\u001b[0m\u001b[0;34m.\u001b[0m\u001b[0;34m\u001b[0m\u001b[0;34m\u001b[0m\u001b[0m\n\u001b[1;32m   1895\u001b[0m         \"\"\"\n\u001b[0;32m-> 1896\u001b[0;31m         \u001b[0mresult\u001b[0m \u001b[0;34m=\u001b[0m \u001b[0msuper\u001b[0m\u001b[0;34m(\u001b[0m\u001b[0;34m)\u001b[0m\u001b[0;34m.\u001b[0m\u001b[0m__getitem__\u001b[0m\u001b[0;34m(\u001b[0m\u001b[0mkey\u001b[0m\u001b[0;34m)\u001b[0m\u001b[0;34m\u001b[0m\u001b[0;34m\u001b[0m\u001b[0m\n\u001b[0m\u001b[1;32m   1897\u001b[0m         \u001b[0;31m# Custom logic to avoid waiting for pandas GH51895\u001b[0m\u001b[0;34m\u001b[0m\u001b[0;34m\u001b[0m\u001b[0m\n\u001b[1;32m   1898\u001b[0m         \u001b[0;31m# result is not geometry dtype for multi-indexes\u001b[0m\u001b[0;34m\u001b[0m\u001b[0;34m\u001b[0m\u001b[0m\n",
            "\u001b[0;32m/usr/local/lib/python3.11/dist-packages/pandas/core/frame.py\u001b[0m in \u001b[0;36m__getitem__\u001b[0;34m(self, key)\u001b[0m\n\u001b[1;32m   4100\u001b[0m             \u001b[0;32mif\u001b[0m \u001b[0mself\u001b[0m\u001b[0;34m.\u001b[0m\u001b[0mcolumns\u001b[0m\u001b[0;34m.\u001b[0m\u001b[0mnlevels\u001b[0m \u001b[0;34m>\u001b[0m \u001b[0;36m1\u001b[0m\u001b[0;34m:\u001b[0m\u001b[0;34m\u001b[0m\u001b[0;34m\u001b[0m\u001b[0m\n\u001b[1;32m   4101\u001b[0m                 \u001b[0;32mreturn\u001b[0m \u001b[0mself\u001b[0m\u001b[0;34m.\u001b[0m\u001b[0m_getitem_multilevel\u001b[0m\u001b[0;34m(\u001b[0m\u001b[0mkey\u001b[0m\u001b[0;34m)\u001b[0m\u001b[0;34m\u001b[0m\u001b[0;34m\u001b[0m\u001b[0m\n\u001b[0;32m-> 4102\u001b[0;31m             \u001b[0mindexer\u001b[0m \u001b[0;34m=\u001b[0m \u001b[0mself\u001b[0m\u001b[0;34m.\u001b[0m\u001b[0mcolumns\u001b[0m\u001b[0;34m.\u001b[0m\u001b[0mget_loc\u001b[0m\u001b[0;34m(\u001b[0m\u001b[0mkey\u001b[0m\u001b[0;34m)\u001b[0m\u001b[0;34m\u001b[0m\u001b[0;34m\u001b[0m\u001b[0m\n\u001b[0m\u001b[1;32m   4103\u001b[0m             \u001b[0;32mif\u001b[0m \u001b[0mis_integer\u001b[0m\u001b[0;34m(\u001b[0m\u001b[0mindexer\u001b[0m\u001b[0;34m)\u001b[0m\u001b[0;34m:\u001b[0m\u001b[0;34m\u001b[0m\u001b[0;34m\u001b[0m\u001b[0m\n\u001b[1;32m   4104\u001b[0m                 \u001b[0mindexer\u001b[0m \u001b[0;34m=\u001b[0m \u001b[0;34m[\u001b[0m\u001b[0mindexer\u001b[0m\u001b[0;34m]\u001b[0m\u001b[0;34m\u001b[0m\u001b[0;34m\u001b[0m\u001b[0m\n",
            "\u001b[0;32m/usr/local/lib/python3.11/dist-packages/pandas/core/indexes/base.py\u001b[0m in \u001b[0;36mget_loc\u001b[0;34m(self, key)\u001b[0m\n\u001b[1;32m   3810\u001b[0m             ):\n\u001b[1;32m   3811\u001b[0m                 \u001b[0;32mraise\u001b[0m \u001b[0mInvalidIndexError\u001b[0m\u001b[0;34m(\u001b[0m\u001b[0mkey\u001b[0m\u001b[0;34m)\u001b[0m\u001b[0;34m\u001b[0m\u001b[0;34m\u001b[0m\u001b[0m\n\u001b[0;32m-> 3812\u001b[0;31m             \u001b[0;32mraise\u001b[0m \u001b[0mKeyError\u001b[0m\u001b[0;34m(\u001b[0m\u001b[0mkey\u001b[0m\u001b[0;34m)\u001b[0m \u001b[0;32mfrom\u001b[0m \u001b[0merr\u001b[0m\u001b[0;34m\u001b[0m\u001b[0;34m\u001b[0m\u001b[0m\n\u001b[0m\u001b[1;32m   3813\u001b[0m         \u001b[0;32mexcept\u001b[0m \u001b[0mTypeError\u001b[0m\u001b[0;34m:\u001b[0m\u001b[0;34m\u001b[0m\u001b[0;34m\u001b[0m\u001b[0m\n\u001b[1;32m   3814\u001b[0m             \u001b[0;31m# If we have a listlike key, _check_indexing_error will raise\u001b[0m\u001b[0;34m\u001b[0m\u001b[0;34m\u001b[0m\u001b[0m\n",
            "\u001b[0;31mKeyError\u001b[0m: 'name'"
          ]
        }
      ]
    },
    {
      "cell_type": "code",
      "source": [
        "# ขั้นตอนที่ 9 ลองเปลี่ยนจุดปลายทาง"
      ],
      "metadata": {
        "id": "qByBHUSaLVLP"
      },
      "execution_count": null,
      "outputs": []
    },
    {
      "cell_type": "code",
      "source": [
        "new_end_lat, new_end_lon = 13.8161, 100.5607\n",
        "new_end_name = \"Central Plaza Ladprao\"\n",
        "\n",
        "print(f\"🎯 New destination: {new_end_name}\")"
      ],
      "metadata": {
        "id": "E3aUEC7pMeLe"
      },
      "execution_count": null,
      "outputs": []
    },
    {
      "cell_type": "code",
      "source": [
        "new_dest_node = ox.nearest_nodes(G, new_end_lon, new_end_lat)\n",
        "new_route = nx.astar_path(G, orig_node, new_dest_node, weight='length')\n",
        "new_length = nx.path_weight(G, new_route, weight='length')\n",
        "\n",
        "print(f\"📏 Distance to new destination: {new_length:,.0f} meters ({new_length/1000:.2f} km)\")\n",
        "print(f\"📊 Difference: {abs(new_length - route_length):,.0f} meters\")"
      ],
      "metadata": {
        "id": "NXpyCFOzMh59"
      },
      "execution_count": null,
      "outputs": []
    },
    {
      "cell_type": "code",
      "source": [
        "comparison_map = ox.plot_route_folium(G, shortest_route,\n",
        "                                      route_color='red',\n",
        "                                      route_width=4,\n",
        "                                      route_opacity=0.7)\n",
        "\n",
        "comparison_map = ox.plot_route_folium(G, new_route,\n",
        "                                      route_map=comparison_map,\n",
        "                                      route_color='blue',\n",
        "                                      route_width=4,\n",
        "                                      route_opacity=0.7)"
      ],
      "metadata": {
        "id": "JAfOF8XwMkEP"
      },
      "execution_count": null,
      "outputs": []
    },
    {
      "cell_type": "code",
      "source": [
        "folium.Marker([start_lat, start_lon],\n",
        "              popup=f\"<b>Start:</b> {start_name}\",\n",
        "              icon=folium.Icon(color='green')).add_to(comparison_map)\n",
        "\n",
        "folium.Marker([end_lat, end_lon],\n",
        "              popup=f\"<b>Destination 1:</b> {end_name}\",\n",
        "              icon=folium.Icon(color='red')).add_to(comparison_map)\n",
        "\n",
        "folium.Marker([new_end_lat, new_end_lon],\n",
        "              popup=f\"<b>Destination 2:</b> {new_end_name}\",\n",
        "              icon=folium.Icon(color='blue')).add_to(comparison_map)\n",
        "\n",
        "print(\"\\n🗺️ Comparison map (Red = Or Tor Kor, Blue = Central Ladprao):\")\n",
        "display(comparison_map)"
      ],
      "metadata": {
        "id": "PjQTmuUzMszH"
      },
      "execution_count": null,
      "outputs": []
    },
    {
      "cell_type": "code",
      "metadata": {
        "id": "39ab359d"
      },
      "source": [
        "help(ox.graph_from_place)"
      ],
      "execution_count": null,
      "outputs": []
    },
    {
      "cell_type": "code",
      "source": [
        "# ขั้นตอนที่ 10 เพิ่ม \"travel time\" เป็น weight แทน distance"
      ],
      "metadata": {
        "id": "4Ww8cTyahApn"
      },
      "execution_count": null,
      "outputs": []
    },
    {
      "cell_type": "code",
      "metadata": {
        "id": "bfbe898d"
      },
      "source": [
        "# Define estimated travel speeds for different road types in km/h\n",
        "speed_kmph = {\n",
        "    'residential': 30,  # Typical speed in residential areas\n",
        "    'unclassified': 30, # Similar to residential\n",
        "    'tertiary': 40,     # Medium speed urban roads\n",
        "    'secondary': 50,    # Arterial roads\n",
        "    'primary': 60,      # Major urban roads\n",
        "    'trunk': 70,        # Major highways/expressways within urban area\n",
        "    'motorway': 90,     # High-speed expressways\n",
        "    'living_street': 10,# Very low speed\n",
        "    'service': 20,      # Service roads, alleys\n",
        "    'road': 30,         # General unclassified roads\n",
        "    'primary_link': 60, # Links to primary roads\n",
        "    'secondary_link': 50,# Links to secondary roads\n",
        "    'tertiary_link': 40, # Links to tertiary roads\n",
        "    'trunk_link': 70,   # Links to trunk roads\n",
        "    'motorway_link': 90 # Links to motorways\n",
        "}\n",
        "\n",
        "print(\"Estimated speeds (km/h) by road type\")\n",
        "for highway_type, speed in speed_kmph.items():\n",
        "    print(f\"  {highway_type}: {speed}\")"
      ],
      "execution_count": null,
      "outputs": []
    },
    {
      "cell_type": "code",
      "source": [
        "# ขั้นตอนที่ 11 คำนวน travel time"
      ],
      "metadata": {
        "id": "EAsLJlLGhMLx"
      },
      "execution_count": null,
      "outputs": []
    },
    {
      "cell_type": "code",
      "metadata": {
        "id": "cd708e74"
      },
      "source": [
        "# Convert speed from km/h to meters per second\n",
        "speed_mps = {highway_type: speed * 1000 / 3600 for highway_type, speed in speed_kmph.items()}\n",
        "\n",
        "# Add 'speed_mps' attribute to edges based on 'highway' type\n",
        "G = ox.add_edge_speeds(G, speed_mps)\n",
        "\n",
        "# Calculate and add 'travel_time' attribute to edges\n",
        "G = ox.add_edge_travel_times(G)"
      ],
      "execution_count": null,
      "outputs": []
    },
    {
      "cell_type": "code",
      "source": [
        "# ขั้นตอนที่ 12 shortest path จาก time"
      ],
      "metadata": {
        "id": "4jdaVpK3hTur"
      },
      "execution_count": null,
      "outputs": []
    },
    {
      "cell_type": "code",
      "metadata": {
        "id": "e6d62d5e"
      },
      "source": [
        "# ใช้ A* algorithm หาเส้นทางที่ใช้เวลาน้อยที่สุด\n",
        "shortest_route_time = nx.astar_path(G, orig_node, dest_node, weight='travel_time')\n",
        "\n",
        "# คำนวณเวลาการเดินทางรวม\n",
        "route_time = nx.path_weight(G, shortest_route_time, weight='travel_time')\n",
        "\n",
        "print(f\"⏰ Estimated total travel time: {route_time:.2f} seconds ({route_time/60:.2f} minutes)\")\n",
        "print(f\"Number of intersections: {len(shortest_route_time)}\")"
      ],
      "execution_count": null,
      "outputs": []
    },
    {
      "cell_type": "code",
      "source": [
        "# ตัวอย่างการกำหนดความเร็วให้แต่ละเส้นทาง"
      ],
      "metadata": {
        "id": "JeRHkqMGYPUC"
      },
      "execution_count": null,
      "outputs": []
    },
    {
      "cell_type": "code",
      "metadata": {
        "id": "cf9e62c6"
      },
      "source": [
        "# u, v, key คือตัวระบุเส้นถนน และ 'speed_mps_actual' คือความเร็วจริงในหน่วย เมตรต่อวินาที\n",
        "data = {\n",
        "    'u': [85753778, 105838415, 105838415, 9444510080, 2197616325],\n",
        "    'v': [1893839406, 1817818994, 8107214608, 2197616325, 9444510080],\n",
        "    'key': [0, 0, 0, 0, 0],\n",
        "    'speed_mps_actual': [15.2, 12.5, 5.0, 10.0, 9.5]\n",
        "}\n",
        "\n",
        "df_speeds_actual = pd.DataFrame(data)\n",
        "\n",
        "display(df_speeds_actual)"
      ],
      "execution_count": null,
      "outputs": []
    },
    {
      "cell_type": "code",
      "source": [],
      "metadata": {
        "id": "6hMm7paohgkK"
      },
      "execution_count": null,
      "outputs": []
    }
  ]
}